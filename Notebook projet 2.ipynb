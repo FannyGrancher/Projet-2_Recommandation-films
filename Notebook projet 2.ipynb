{
 "cells": [
  {
   "cell_type": "markdown",
   "id": "6f7da3ff",
   "metadata": {},
   "source": [
    "# Nettoyage des différentes tables"
   ]
  },
  {
   "cell_type": "markdown",
   "id": "dfa4e193",
   "metadata": {},
   "source": [
    "## Nettoyage de la table : Title Basics"
   ]
  },
  {
   "cell_type": "code",
   "execution_count": 2,
   "id": "dd08bd3d",
   "metadata": {},
   "outputs": [],
   "source": [
    "#Import des différents modules nécessaires : \n",
    "import pandas as pd\n",
    "import numpy as np\n",
    "import matplotlib.pyplot as plt\n",
    "import seaborn as sns"
   ]
  },
  {
   "cell_type": "code",
   "execution_count": 37,
   "id": "2ea59d3b",
   "metadata": {},
   "outputs": [],
   "source": [
    "#Appel de la base de données title_basics : \n",
    "title_basics = pd.read_csv('data_title_basics.tsv', sep = '\\t', low_memory = False)"
   ]
  },
  {
   "cell_type": "code",
   "execution_count": 38,
   "id": "caab3d23",
   "metadata": {},
   "outputs": [],
   "source": [
    "#Remplacement des '\\N' par des NaN : \n",
    "title_basics.replace('\\\\N', np.nan, inplace= True)"
   ]
  },
  {
   "cell_type": "code",
   "execution_count": 39,
   "id": "4c79049d",
   "metadata": {},
   "outputs": [],
   "source": [
    "#Changement du type de données pour les colonnes 'startYear' et 'endYear' d'object à float64 (Car il y a des NaN et se sont des Float)\n",
    "title_basics['startYear'], title_basics['endYear'] = title_basics['startYear'].astype(np.float64), title_basics['endYear'].astype(np.float64)"
   ]
  },
  {
   "cell_type": "code",
   "execution_count": 40,
   "id": "d1f4f45f",
   "metadata": {},
   "outputs": [],
   "source": [
    "#Découpage de la colonne 'genres' en trois colonnes\n",
    "title_basics[['genre0', 'genre1', 'genre3']] = title_basics['genres'].str.split(',', expand = True)"
   ]
  },
  {
   "cell_type": "code",
   "execution_count": 42,
   "id": "f8427f97",
   "metadata": {},
   "outputs": [],
   "source": [
    "#Retrait des lignes via 'endYear' ne passédant pas de date fin (car se sont exclusivement des séries)\n",
    "title_basics = title_basics[title_basics['endYear'].isna()]"
   ]
  },
  {
   "cell_type": "code",
   "execution_count": 44,
   "id": "c7b00c6c",
   "metadata": {},
   "outputs": [
    {
     "name": "stderr",
     "output_type": "stream",
     "text": [
      "C:\\Users\\Fanny\\AppData\\Local\\Temp\\ipykernel_3656\\529230404.py:2: SettingWithCopyWarning: \n",
      "A value is trying to be set on a copy of a slice from a DataFrame.\n",
      "Try using .loc[row_indexer,col_indexer] = value instead\n",
      "\n",
      "See the caveats in the documentation: https://pandas.pydata.org/pandas-docs/stable/user_guide/indexing.html#returning-a-view-versus-a-copy\n",
      "  title_basics['genre_concat'] = title_basics.apply(lambda row: [row['genre0'], row['genre1'], row['genre3']], axis=1)\n"
     ]
    }
   ],
   "source": [
    "#Tranformation des trois colonne genre en une seule sous format liste pour compter les valeurs ensuite\n",
    "title_basics['genre_concat'] = title_basics.apply(lambda row: [row['genre0'], row['genre1'], row['genre3']], axis=1)"
   ]
  },
  {
   "cell_type": "code",
   "execution_count": 46,
   "id": "f2f97f0a",
   "metadata": {},
   "outputs": [],
   "source": [
    "#Retrait des lignes via le 'runtimeMinutes' qui ne sont pas renseignées\n",
    "title_basics = title_basics[title_basics['runtimeMinutes'].isna() == False]"
   ]
  },
  {
   "cell_type": "code",
   "execution_count": 48,
   "id": "b2eede36",
   "metadata": {},
   "outputs": [],
   "source": [
    "#Retrait des lignes via le 'runtimeMinutes' dont la longueur est au dela de 4 chiffres (Permet d'éliminer le ligne avec une chaine de caractères et le filme trop longs)\n",
    "title_basics = title_basics[title_basics['runtimeMinutes'].apply(lambda x : len(x) < 4) == True]"
   ]
  },
  {
   "cell_type": "code",
   "execution_count": 50,
   "id": "82ec753d",
   "metadata": {},
   "outputs": [
    {
     "name": "stderr",
     "output_type": "stream",
     "text": [
      "C:\\Users\\Fanny\\AppData\\Local\\Temp\\ipykernel_3656\\3961942196.py:1: SettingWithCopyWarning: \n",
      "A value is trying to be set on a copy of a slice from a DataFrame.\n",
      "Try using .loc[row_indexer,col_indexer] = value instead\n",
      "\n",
      "See the caveats in the documentation: https://pandas.pydata.org/pandas-docs/stable/user_guide/indexing.html#returning-a-view-versus-a-copy\n",
      "  title_basics['runtimeMinutes'] = title_basics['runtimeMinutes'].astype(int)\n"
     ]
    }
   ],
   "source": [
    "title_basics['runtimeMinutes'] = title_basics['runtimeMinutes'].astype(int)"
   ]
  },
  {
   "cell_type": "code",
   "execution_count": 51,
   "id": "dbbdc231",
   "metadata": {},
   "outputs": [],
   "source": [
    "#Retrait des lignes via le 'runtimeMinutes' dont la donnée est inférieur à 60min (short en majorité) et supérieur à 240min (Trop long pour un ciné)\n",
    "title_basics = title_basics[title_basics['runtimeMinutes'].apply(lambda x : 60 < x < 240) == True]"
   ]
  },
  {
   "cell_type": "code",
   "execution_count": 53,
   "id": "e8b82a0b",
   "metadata": {},
   "outputs": [],
   "source": [
    "#Retrait des lignes via le 'titleType' dont la donnée est différente de 'movies'\n",
    "title_basics = title_basics[title_basics['titleType'] == 'movie']"
   ]
  },
  {
   "cell_type": "code",
   "execution_count": 55,
   "id": "b13c2fff",
   "metadata": {},
   "outputs": [],
   "source": [
    "#Retrait des lignes via 'isAdult' dont la donnée est 1\n",
    "title_basics = title_basics[title_basics['isAdult'] == '0']"
   ]
  },
  {
   "cell_type": "code",
   "execution_count": 75,
   "id": "9f1e6378",
   "metadata": {},
   "outputs": [],
   "source": [
    "#Retrait des lignes contenant le genre 'Adult'\n",
    "title_basics = title_basics[title_basics['genres'].str.contains('Adult') == False]"
   ]
  },
  {
   "cell_type": "code",
   "execution_count": 78,
   "id": "d6904647",
   "metadata": {},
   "outputs": [],
   "source": [
    "#Retrait des lignes ne contenant pas de genre\n",
    "title_basics = title_basics[title_basics['genres'].isna() == False]"
   ]
  },
  {
   "cell_type": "code",
   "execution_count": 79,
   "id": "5c954345",
   "metadata": {},
   "outputs": [
    {
     "data": {
      "text/html": [
       "<div>\n",
       "<style scoped>\n",
       "    .dataframe tbody tr th:only-of-type {\n",
       "        vertical-align: middle;\n",
       "    }\n",
       "\n",
       "    .dataframe tbody tr th {\n",
       "        vertical-align: top;\n",
       "    }\n",
       "\n",
       "    .dataframe thead th {\n",
       "        text-align: right;\n",
       "    }\n",
       "</style>\n",
       "<table border=\"1\" class=\"dataframe\">\n",
       "  <thead>\n",
       "    <tr style=\"text-align: right;\">\n",
       "      <th></th>\n",
       "      <th>tconst</th>\n",
       "      <th>titleType</th>\n",
       "      <th>primaryTitle</th>\n",
       "      <th>originalTitle</th>\n",
       "      <th>isAdult</th>\n",
       "      <th>startYear</th>\n",
       "      <th>endYear</th>\n",
       "      <th>runtimeMinutes</th>\n",
       "      <th>genres</th>\n",
       "      <th>genre0</th>\n",
       "      <th>genre1</th>\n",
       "      <th>genre3</th>\n",
       "      <th>genre_concat</th>\n",
       "    </tr>\n",
       "  </thead>\n",
       "  <tbody>\n",
       "    <tr>\n",
       "      <th>144</th>\n",
       "      <td>tt0000147</td>\n",
       "      <td>movie</td>\n",
       "      <td>The Corbett-Fitzsimmons Fight</td>\n",
       "      <td>The Corbett-Fitzsimmons Fight</td>\n",
       "      <td>0</td>\n",
       "      <td>1897.0</td>\n",
       "      <td>NaN</td>\n",
       "      <td>100</td>\n",
       "      <td>Documentary,News,Sport</td>\n",
       "      <td>Documentary</td>\n",
       "      <td>News</td>\n",
       "      <td>Sport</td>\n",
       "      <td>[Documentary, News, Sport]</td>\n",
       "    </tr>\n",
       "    <tr>\n",
       "      <th>570</th>\n",
       "      <td>tt0000574</td>\n",
       "      <td>movie</td>\n",
       "      <td>The Story of the Kelly Gang</td>\n",
       "      <td>The Story of the Kelly Gang</td>\n",
       "      <td>0</td>\n",
       "      <td>1906.0</td>\n",
       "      <td>NaN</td>\n",
       "      <td>70</td>\n",
       "      <td>Action,Adventure,Biography</td>\n",
       "      <td>Action</td>\n",
       "      <td>Adventure</td>\n",
       "      <td>Biography</td>\n",
       "      <td>[Action, Adventure, Biography]</td>\n",
       "    </tr>\n",
       "    <tr>\n",
       "      <th>587</th>\n",
       "      <td>tt0000591</td>\n",
       "      <td>movie</td>\n",
       "      <td>The Prodigal Son</td>\n",
       "      <td>L'enfant prodigue</td>\n",
       "      <td>0</td>\n",
       "      <td>1907.0</td>\n",
       "      <td>NaN</td>\n",
       "      <td>90</td>\n",
       "      <td>Drama</td>\n",
       "      <td>Drama</td>\n",
       "      <td>None</td>\n",
       "      <td>None</td>\n",
       "      <td>[Drama, None, None]</td>\n",
       "    </tr>\n",
       "    <tr>\n",
       "      <th>672</th>\n",
       "      <td>tt0000679</td>\n",
       "      <td>movie</td>\n",
       "      <td>The Fairylogue and Radio-Plays</td>\n",
       "      <td>The Fairylogue and Radio-Plays</td>\n",
       "      <td>0</td>\n",
       "      <td>1908.0</td>\n",
       "      <td>NaN</td>\n",
       "      <td>120</td>\n",
       "      <td>Adventure,Fantasy</td>\n",
       "      <td>Adventure</td>\n",
       "      <td>Fantasy</td>\n",
       "      <td>None</td>\n",
       "      <td>[Adventure, Fantasy, None]</td>\n",
       "    </tr>\n",
       "    <tr>\n",
       "      <th>2002</th>\n",
       "      <td>tt0002026</td>\n",
       "      <td>movie</td>\n",
       "      <td>Anny - Story of a Prostitute</td>\n",
       "      <td>Anny - en gatepiges roman</td>\n",
       "      <td>0</td>\n",
       "      <td>1912.0</td>\n",
       "      <td>NaN</td>\n",
       "      <td>68</td>\n",
       "      <td>Drama,Romance</td>\n",
       "      <td>Drama</td>\n",
       "      <td>Romance</td>\n",
       "      <td>None</td>\n",
       "      <td>[Drama, Romance, None]</td>\n",
       "    </tr>\n",
       "    <tr>\n",
       "      <th>...</th>\n",
       "      <td>...</td>\n",
       "      <td>...</td>\n",
       "      <td>...</td>\n",
       "      <td>...</td>\n",
       "      <td>...</td>\n",
       "      <td>...</td>\n",
       "      <td>...</td>\n",
       "      <td>...</td>\n",
       "      <td>...</td>\n",
       "      <td>...</td>\n",
       "      <td>...</td>\n",
       "      <td>...</td>\n",
       "      <td>...</td>\n",
       "    </tr>\n",
       "    <tr>\n",
       "      <th>10243374</th>\n",
       "      <td>tt9916270</td>\n",
       "      <td>movie</td>\n",
       "      <td>Il talento del calabrone</td>\n",
       "      <td>Il talento del calabrone</td>\n",
       "      <td>0</td>\n",
       "      <td>2020.0</td>\n",
       "      <td>NaN</td>\n",
       "      <td>84</td>\n",
       "      <td>Thriller</td>\n",
       "      <td>Thriller</td>\n",
       "      <td>None</td>\n",
       "      <td>None</td>\n",
       "      <td>[Thriller, None, None]</td>\n",
       "    </tr>\n",
       "    <tr>\n",
       "      <th>10243419</th>\n",
       "      <td>tt9916362</td>\n",
       "      <td>movie</td>\n",
       "      <td>Coven</td>\n",
       "      <td>Akelarre</td>\n",
       "      <td>0</td>\n",
       "      <td>2020.0</td>\n",
       "      <td>NaN</td>\n",
       "      <td>92</td>\n",
       "      <td>Drama,History</td>\n",
       "      <td>Drama</td>\n",
       "      <td>History</td>\n",
       "      <td>None</td>\n",
       "      <td>[Drama, History, None]</td>\n",
       "    </tr>\n",
       "    <tr>\n",
       "      <th>10243503</th>\n",
       "      <td>tt9916538</td>\n",
       "      <td>movie</td>\n",
       "      <td>Kuambil Lagi Hatiku</td>\n",
       "      <td>Kuambil Lagi Hatiku</td>\n",
       "      <td>0</td>\n",
       "      <td>2019.0</td>\n",
       "      <td>NaN</td>\n",
       "      <td>123</td>\n",
       "      <td>Drama</td>\n",
       "      <td>Drama</td>\n",
       "      <td>None</td>\n",
       "      <td>None</td>\n",
       "      <td>[Drama, None, None]</td>\n",
       "    </tr>\n",
       "    <tr>\n",
       "      <th>10243571</th>\n",
       "      <td>tt9916680</td>\n",
       "      <td>movie</td>\n",
       "      <td>De la ilusión al desconcierto: cine colombiano...</td>\n",
       "      <td>De la ilusión al desconcierto: cine colombiano...</td>\n",
       "      <td>0</td>\n",
       "      <td>2007.0</td>\n",
       "      <td>NaN</td>\n",
       "      <td>100</td>\n",
       "      <td>Documentary</td>\n",
       "      <td>Documentary</td>\n",
       "      <td>None</td>\n",
       "      <td>None</td>\n",
       "      <td>[Documentary, None, None]</td>\n",
       "    </tr>\n",
       "    <tr>\n",
       "      <th>10243593</th>\n",
       "      <td>tt9916730</td>\n",
       "      <td>movie</td>\n",
       "      <td>6 Gunn</td>\n",
       "      <td>6 Gunn</td>\n",
       "      <td>0</td>\n",
       "      <td>2017.0</td>\n",
       "      <td>NaN</td>\n",
       "      <td>116</td>\n",
       "      <td>Drama</td>\n",
       "      <td>Drama</td>\n",
       "      <td>None</td>\n",
       "      <td>None</td>\n",
       "      <td>[Drama, None, None]</td>\n",
       "    </tr>\n",
       "  </tbody>\n",
       "</table>\n",
       "<p>328473 rows × 13 columns</p>\n",
       "</div>"
      ],
      "text/plain": [
       "             tconst titleType  \\\n",
       "144       tt0000147     movie   \n",
       "570       tt0000574     movie   \n",
       "587       tt0000591     movie   \n",
       "672       tt0000679     movie   \n",
       "2002      tt0002026     movie   \n",
       "...             ...       ...   \n",
       "10243374  tt9916270     movie   \n",
       "10243419  tt9916362     movie   \n",
       "10243503  tt9916538     movie   \n",
       "10243571  tt9916680     movie   \n",
       "10243593  tt9916730     movie   \n",
       "\n",
       "                                               primaryTitle  \\\n",
       "144                           The Corbett-Fitzsimmons Fight   \n",
       "570                             The Story of the Kelly Gang   \n",
       "587                                        The Prodigal Son   \n",
       "672                          The Fairylogue and Radio-Plays   \n",
       "2002                           Anny - Story of a Prostitute   \n",
       "...                                                     ...   \n",
       "10243374                           Il talento del calabrone   \n",
       "10243419                                              Coven   \n",
       "10243503                                Kuambil Lagi Hatiku   \n",
       "10243571  De la ilusión al desconcierto: cine colombiano...   \n",
       "10243593                                             6 Gunn   \n",
       "\n",
       "                                              originalTitle isAdult  \\\n",
       "144                           The Corbett-Fitzsimmons Fight       0   \n",
       "570                             The Story of the Kelly Gang       0   \n",
       "587                                       L'enfant prodigue       0   \n",
       "672                          The Fairylogue and Radio-Plays       0   \n",
       "2002                              Anny - en gatepiges roman       0   \n",
       "...                                                     ...     ...   \n",
       "10243374                           Il talento del calabrone       0   \n",
       "10243419                                           Akelarre       0   \n",
       "10243503                                Kuambil Lagi Hatiku       0   \n",
       "10243571  De la ilusión al desconcierto: cine colombiano...       0   \n",
       "10243593                                             6 Gunn       0   \n",
       "\n",
       "          startYear  endYear  runtimeMinutes                      genres  \\\n",
       "144          1897.0      NaN             100      Documentary,News,Sport   \n",
       "570          1906.0      NaN              70  Action,Adventure,Biography   \n",
       "587          1907.0      NaN              90                       Drama   \n",
       "672          1908.0      NaN             120           Adventure,Fantasy   \n",
       "2002         1912.0      NaN              68               Drama,Romance   \n",
       "...             ...      ...             ...                         ...   \n",
       "10243374     2020.0      NaN              84                    Thriller   \n",
       "10243419     2020.0      NaN              92               Drama,History   \n",
       "10243503     2019.0      NaN             123                       Drama   \n",
       "10243571     2007.0      NaN             100                 Documentary   \n",
       "10243593     2017.0      NaN             116                       Drama   \n",
       "\n",
       "               genre0     genre1     genre3                    genre_concat  \n",
       "144       Documentary       News      Sport      [Documentary, News, Sport]  \n",
       "570            Action  Adventure  Biography  [Action, Adventure, Biography]  \n",
       "587             Drama       None       None             [Drama, None, None]  \n",
       "672         Adventure    Fantasy       None      [Adventure, Fantasy, None]  \n",
       "2002            Drama    Romance       None          [Drama, Romance, None]  \n",
       "...               ...        ...        ...                             ...  \n",
       "10243374     Thriller       None       None          [Thriller, None, None]  \n",
       "10243419        Drama    History       None          [Drama, History, None]  \n",
       "10243503        Drama       None       None             [Drama, None, None]  \n",
       "10243571  Documentary       None       None       [Documentary, None, None]  \n",
       "10243593        Drama       None       None             [Drama, None, None]  \n",
       "\n",
       "[328473 rows x 13 columns]"
      ]
     },
     "execution_count": 79,
     "metadata": {},
     "output_type": "execute_result"
    }
   ],
   "source": [
    "title_basics"
   ]
  },
  {
   "cell_type": "code",
   "execution_count": 89,
   "id": "63c6e02f",
   "metadata": {},
   "outputs": [],
   "source": [
    "#Import de la base title_basics sous format csv pour l'importer plus facilement ensuite\n",
    "title_basics.to_csv(\"title_basics.csv\", index = False)"
   ]
  },
  {
   "cell_type": "code",
   "execution_count": null,
   "id": "7e33721b",
   "metadata": {},
   "outputs": [],
   "source": []
  },
  {
   "cell_type": "markdown",
   "id": "b00afa30",
   "metadata": {},
   "source": [
    "## Concaténation des tables Title_principal et Name_basics"
   ]
  },
  {
   "cell_type": "code",
   "execution_count": null,
   "id": "a3f6f0f3",
   "metadata": {},
   "outputs": [],
   "source": []
  },
  {
   "cell_type": "code",
   "execution_count": null,
   "id": "5e4466e4",
   "metadata": {},
   "outputs": [],
   "source": [
    "#V1"
   ]
  },
  {
   "cell_type": "code",
   "execution_count": null,
   "id": "d07a43b6",
   "metadata": {},
   "outputs": [],
   "source": [
    "#Appel de la base de données title_principal\n",
    "title_principal = pd.read_csv('data_title_principal.tsv', sep = '\\t')"
   ]
  },
  {
   "cell_type": "code",
   "execution_count": null,
   "id": "3f769733",
   "metadata": {},
   "outputs": [],
   "source": [
    "#Appel de la base de données name_basics nettoyée\n",
    "name_basics = pd.read_csv('data_name_basics.tsv', sep = '\\t')"
   ]
  },
  {
   "cell_type": "code",
   "execution_count": null,
   "id": "75661f0e",
   "metadata": {},
   "outputs": [],
   "source": [
    "#Concaténation des bases title_principal et name_basics\n",
    "principal_concat_name = pd.merge(title_principal, name_basics, how = 'left', left_on = 'nconst', right_on = 'nconst')\n",
    "principal_concat_name"
   ]
  },
  {
   "cell_type": "code",
   "execution_count": null,
   "id": "b1beb805",
   "metadata": {},
   "outputs": [],
   "source": [
    "principal_concat_name_group = principal_concat_name.groupby('tconst').agg(lambda x: x.tolist()).reset_index()\n",
    "principal_concat_name_group"
   ]
  },
  {
   "cell_type": "code",
   "execution_count": null,
   "id": "11f0745d",
   "metadata": {},
   "outputs": [],
   "source": [
    "principal_concat_name_group.drop(labels=['ordering','job'], axis=1,inplace=True)\n",
    "principal_concat_name_group.head()"
   ]
  },
  {
   "cell_type": "code",
   "execution_count": null,
   "id": "849f9bf0",
   "metadata": {},
   "outputs": [],
   "source": [
    "principal_concat_name_group.to_csv('princ_name_group.csv', index = False)"
   ]
  },
  {
   "cell_type": "code",
   "execution_count": null,
   "id": "3c87bd35",
   "metadata": {},
   "outputs": [],
   "source": []
  },
  {
   "cell_type": "code",
   "execution_count": null,
   "id": "8fd594ae",
   "metadata": {},
   "outputs": [],
   "source": [
    "#V2"
   ]
  },
  {
   "cell_type": "code",
   "execution_count": null,
   "id": "9f7c7665",
   "metadata": {},
   "outputs": [],
   "source": [
    "#Appel de la base de données title_principal\n",
    "title_principal = pd.read_csv('data_title_principal.tsv', sep = '\\t')"
   ]
  },
  {
   "cell_type": "code",
   "execution_count": null,
   "id": "ba981adc",
   "metadata": {},
   "outputs": [],
   "source": [
    "#Appel de la base de données name_basics nettoyée\n",
    "name_basics = pd.read_csv('data_name_basics.tsv', sep = '\\t')"
   ]
  },
  {
   "cell_type": "code",
   "execution_count": null,
   "id": "36dd9cba",
   "metadata": {},
   "outputs": [],
   "source": [
    "#Concaténation des bases title_principal et name_basics\n",
    "principal_concat_name = pd.merge(title_principal, name_basics, how = 'left', left_on = 'nconst', right_on = 'nconst')\n",
    "principal_concat_name"
   ]
  },
  {
   "cell_type": "code",
   "execution_count": null,
   "id": "6e44565b",
   "metadata": {},
   "outputs": [],
   "source": [
    "#Regroupement des lignes contenant le même 'tconst'\n",
    "pivoted_df2211 = principal_concat_name.pivot_table(index='tconst', columns='category', values='primaryName', aggfunc= lambda x : list(x)).reset_index()\n",
    "pivoted_df2211"
   ]
  },
  {
   "cell_type": "code",
   "execution_count": null,
   "id": "79a65400",
   "metadata": {},
   "outputs": [],
   "source": [
    "def to_list(cell):\n",
    "    if isinstance(cell, list):\n",
    "        return cell\n",
    "    else:\n",
    "        return [cell]"
   ]
  },
  {
   "cell_type": "code",
   "execution_count": null,
   "id": "2cf86783",
   "metadata": {},
   "outputs": [],
   "source": [
    "pivoted_df2211['actor']=pivoted_df2211['actor'].apply(to_list)\n",
    "pivoted_df2211['actress']=pivoted_df2211['actress'].apply(to_list)"
   ]
  },
  {
   "cell_type": "code",
   "execution_count": null,
   "id": "d75eb026",
   "metadata": {},
   "outputs": [],
   "source": [
    "pivoted_df2211['actors'] = pivoted_df2211.apply(lambda row: row['actor'] + row['actress'], axis=1)"
   ]
  },
  {
   "cell_type": "code",
   "execution_count": null,
   "id": "ce9891a3",
   "metadata": {},
   "outputs": [],
   "source": [
    "def remove_nan_from_list(lst):\n",
    "    return [x for x in lst if pd.notna(x)]"
   ]
  },
  {
   "cell_type": "code",
   "execution_count": null,
   "id": "4b3030e2",
   "metadata": {},
   "outputs": [],
   "source": [
    "pivoted_df2211['actor']=pivoted_df2211['actor'].apply(remove_nan_from_list)\n",
    "pivoted_df2211['actress']=pivoted_df2211['actress'].apply(remove_nan_from_list)\n",
    "pivoted_df2211['actors']=pivoted_df2211['actors'].apply(remove_nan_from_list)"
   ]
  },
  {
   "cell_type": "code",
   "execution_count": null,
   "id": "0cd5ae1d",
   "metadata": {},
   "outputs": [],
   "source": [
    "pivoted_df2211 = pivoted_df2211[['tconst','actor','actress','director','actors']]"
   ]
  },
  {
   "cell_type": "code",
   "execution_count": null,
   "id": "e6b7f385",
   "metadata": {},
   "outputs": [],
   "source": [
    "pivoted_df2211.to_csv('table_actors.csv', index = False)"
   ]
  },
  {
   "cell_type": "code",
   "execution_count": null,
   "id": "92058417",
   "metadata": {},
   "outputs": [],
   "source": []
  },
  {
   "cell_type": "markdown",
   "id": "6b09e4e0",
   "metadata": {},
   "source": [
    "## Nettoyage de la table : Title Akas"
   ]
  },
  {
   "cell_type": "code",
   "execution_count": null,
   "id": "661d4b46",
   "metadata": {},
   "outputs": [],
   "source": []
  },
  {
   "cell_type": "code",
   "execution_count": 3,
   "id": "276c8d51",
   "metadata": {},
   "outputs": [],
   "source": [
    "#Import de la base de données title akas\n",
    "language_fr = pd.read_csv('data_title_akas.tsv', sep = '\\t', low_memory=False)"
   ]
  },
  {
   "cell_type": "code",
   "execution_count": 5,
   "id": "73e967ff",
   "metadata": {},
   "outputs": [],
   "source": [
    "#Remplacer les '\\\\N' par des np.nan\n",
    "language_fr.replace('\\\\N',np.nan, inplace = True)"
   ]
  },
  {
   "cell_type": "code",
   "execution_count": 6,
   "id": "3f6e2230",
   "metadata": {},
   "outputs": [],
   "source": [
    "#Dans la colonne 'language' remplacer les NaN par les nom des régions\n",
    "language_fr['language'].fillna(language_fr['region'].str.lower(), inplace = True)"
   ]
  },
  {
   "cell_type": "code",
   "execution_count": 9,
   "id": "f31d0ad4",
   "metadata": {},
   "outputs": [],
   "source": [
    "#filtration du df par la colonne language pour une langue FR\n",
    "language_fr = language_fr[language_fr['language'] == 'fr']"
   ]
  },
  {
   "cell_type": "code",
   "execution_count": 10,
   "id": "8cda7fb7",
   "metadata": {},
   "outputs": [],
   "source": [
    "#Aggrégation des colonnes pour n'avoir qu'un seul titleId\n",
    "language_fr= language_fr.groupby('titleId').agg(lambda x: x.tolist()).reset_index()"
   ]
  },
  {
   "cell_type": "code",
   "execution_count": 11,
   "id": "c7ac45ac",
   "metadata": {},
   "outputs": [],
   "source": [
    "#Rédéfini la valeur de la colonne language pour n'avoir qu'un seul FR\n",
    "language_fr['language'] = language_fr['language'].apply(lambda x: x[0])"
   ]
  },
  {
   "cell_type": "code",
   "execution_count": 12,
   "id": "2d43e6e4",
   "metadata": {},
   "outputs": [],
   "source": [
    "#Supression des colonnes 'ordering','title','region', 'types', 'attributes' et 'isOriginalTitle'\n",
    "language_fr.drop(labels=['ordering','region', 'types', 'attributes', 'isOriginalTitle'], axis=1,inplace=True)"
   ]
  },
  {
   "cell_type": "code",
   "execution_count": 15,
   "id": "1f7e1fda",
   "metadata": {},
   "outputs": [],
   "source": [
    "language_fr['title'] = language_fr['title'].apply(lambda x: x[0])"
   ]
  },
  {
   "cell_type": "code",
   "execution_count": 16,
   "id": "a79effe6",
   "metadata": {},
   "outputs": [
    {
     "data": {
      "text/html": [
       "<div>\n",
       "<style scoped>\n",
       "    .dataframe tbody tr th:only-of-type {\n",
       "        vertical-align: middle;\n",
       "    }\n",
       "\n",
       "    .dataframe tbody tr th {\n",
       "        vertical-align: top;\n",
       "    }\n",
       "\n",
       "    .dataframe thead th {\n",
       "        text-align: right;\n",
       "    }\n",
       "</style>\n",
       "<table border=\"1\" class=\"dataframe\">\n",
       "  <thead>\n",
       "    <tr style=\"text-align: right;\">\n",
       "      <th></th>\n",
       "      <th>titleId</th>\n",
       "      <th>title</th>\n",
       "      <th>language</th>\n",
       "    </tr>\n",
       "  </thead>\n",
       "  <tbody>\n",
       "    <tr>\n",
       "      <th>0</th>\n",
       "      <td>tt0000002</td>\n",
       "      <td>Le clown et ses chiens</td>\n",
       "      <td>fr</td>\n",
       "    </tr>\n",
       "    <tr>\n",
       "      <th>1</th>\n",
       "      <td>tt0000003</td>\n",
       "      <td>Pauvre Pierrot</td>\n",
       "      <td>fr</td>\n",
       "    </tr>\n",
       "    <tr>\n",
       "      <th>2</th>\n",
       "      <td>tt0000004</td>\n",
       "      <td>Un bon bock</td>\n",
       "      <td>fr</td>\n",
       "    </tr>\n",
       "    <tr>\n",
       "      <th>3</th>\n",
       "      <td>tt0000010</td>\n",
       "      <td>La sortie de l'usine Lumière</td>\n",
       "      <td>fr</td>\n",
       "    </tr>\n",
       "    <tr>\n",
       "      <th>4</th>\n",
       "      <td>tt0000012</td>\n",
       "      <td>L'arrivée d'un train à La Ciotat</td>\n",
       "      <td>fr</td>\n",
       "    </tr>\n",
       "    <tr>\n",
       "      <th>...</th>\n",
       "      <td>...</td>\n",
       "      <td>...</td>\n",
       "      <td>...</td>\n",
       "    </tr>\n",
       "    <tr>\n",
       "      <th>4510001</th>\n",
       "      <td>tt9916844</td>\n",
       "      <td>Épisode #3.15</td>\n",
       "      <td>fr</td>\n",
       "    </tr>\n",
       "    <tr>\n",
       "      <th>4510002</th>\n",
       "      <td>tt9916846</td>\n",
       "      <td>Épisode #3.18</td>\n",
       "      <td>fr</td>\n",
       "    </tr>\n",
       "    <tr>\n",
       "      <th>4510003</th>\n",
       "      <td>tt9916848</td>\n",
       "      <td>Épisode #3.17</td>\n",
       "      <td>fr</td>\n",
       "    </tr>\n",
       "    <tr>\n",
       "      <th>4510004</th>\n",
       "      <td>tt9916850</td>\n",
       "      <td>Épisode #3.19</td>\n",
       "      <td>fr</td>\n",
       "    </tr>\n",
       "    <tr>\n",
       "      <th>4510005</th>\n",
       "      <td>tt9916852</td>\n",
       "      <td>Épisode #3.20</td>\n",
       "      <td>fr</td>\n",
       "    </tr>\n",
       "  </tbody>\n",
       "</table>\n",
       "<p>4510006 rows × 3 columns</p>\n",
       "</div>"
      ],
      "text/plain": [
       "           titleId                             title language\n",
       "0        tt0000002            Le clown et ses chiens       fr\n",
       "1        tt0000003                    Pauvre Pierrot       fr\n",
       "2        tt0000004                       Un bon bock       fr\n",
       "3        tt0000010      La sortie de l'usine Lumière       fr\n",
       "4        tt0000012  L'arrivée d'un train à La Ciotat       fr\n",
       "...            ...                               ...      ...\n",
       "4510001  tt9916844                     Épisode #3.15       fr\n",
       "4510002  tt9916846                     Épisode #3.18       fr\n",
       "4510003  tt9916848                     Épisode #3.17       fr\n",
       "4510004  tt9916850                     Épisode #3.19       fr\n",
       "4510005  tt9916852                     Épisode #3.20       fr\n",
       "\n",
       "[4510006 rows x 3 columns]"
      ]
     },
     "execution_count": 16,
     "metadata": {},
     "output_type": "execute_result"
    }
   ],
   "source": [
    "language_fr"
   ]
  },
  {
   "cell_type": "code",
   "execution_count": 17,
   "id": "2b76208e",
   "metadata": {},
   "outputs": [],
   "source": [
    "#Import de la base language_fr sous format csv pour l'importer plus facilement ensuite\n",
    "language_fr.to_csv(\"language_fr.csv\", index = False)"
   ]
  },
  {
   "cell_type": "code",
   "execution_count": null,
   "id": "52cb2d1a",
   "metadata": {},
   "outputs": [],
   "source": []
  },
  {
   "cell_type": "markdown",
   "id": "3d55cacd",
   "metadata": {},
   "source": [
    "## Nettoyage de la table : Complémentaire"
   ]
  },
  {
   "cell_type": "code",
   "execution_count": null,
   "id": "1bac0715",
   "metadata": {},
   "outputs": [],
   "source": []
  },
  {
   "cell_type": "code",
   "execution_count": 4,
   "id": "97707043",
   "metadata": {},
   "outputs": [],
   "source": [
    "#Import de la base de données complement\n",
    "complement = pd.read_csv('tmdb_full.csv', sep = ',', low_memory=False)"
   ]
  },
  {
   "cell_type": "code",
   "execution_count": 7,
   "id": "8ee4f3a2",
   "metadata": {},
   "outputs": [
    {
     "name": "stdout",
     "output_type": "stream",
     "text": [
      "<class 'pandas.core.frame.DataFrame'>\n",
      "RangeIndex: 309572 entries, 0 to 309571\n",
      "Data columns (total 25 columns):\n",
      " #   Column                        Non-Null Count   Dtype  \n",
      "---  ------                        --------------   -----  \n",
      " 0   adult                         309572 non-null  bool   \n",
      " 1   backdrop_path                 151760 non-null  object \n",
      " 2   budget                        309572 non-null  int64  \n",
      " 3   genres                        309572 non-null  object \n",
      " 4   homepage                      44262 non-null   object \n",
      " 5   id                            309572 non-null  int64  \n",
      " 6   imdb_id                       309572 non-null  object \n",
      " 7   original_language             309572 non-null  object \n",
      " 8   original_title                309572 non-null  object \n",
      " 9   overview                      282512 non-null  object \n",
      " 10  popularity                    309572 non-null  float64\n",
      " 11  poster_path                   264159 non-null  object \n",
      " 12  production_countries          309572 non-null  object \n",
      " 13  release_date                  301339 non-null  object \n",
      " 14  revenue                       309572 non-null  int64  \n",
      " 15  runtime                       309572 non-null  int64  \n",
      " 16  spoken_languages              309572 non-null  object \n",
      " 17  status                        309572 non-null  object \n",
      " 18  tagline                       74573 non-null   object \n",
      " 19  title                         309572 non-null  object \n",
      " 20  video                         309572 non-null  bool   \n",
      " 21  vote_average                  309572 non-null  float64\n",
      " 22  vote_count                    309572 non-null  int64  \n",
      " 23  production_companies_name     309572 non-null  object \n",
      " 24  production_companies_country  164438 non-null  object \n",
      "dtypes: bool(2), float64(2), int64(5), object(16)\n",
      "memory usage: 54.9+ MB\n"
     ]
    }
   ],
   "source": [
    "complement.info()"
   ]
  },
  {
   "cell_type": "code",
   "execution_count": 102,
   "id": "2a509711",
   "metadata": {},
   "outputs": [
    {
     "name": "stderr",
     "output_type": "stream",
     "text": [
      "C:\\Users\\Fanny\\AppData\\Local\\Temp\\ipykernel_3656\\1546935331.py:2: FutureWarning: The default value of regex will change from True to False in a future version. In addition, single character regular expressions will *not* be treated as literal strings when regex=True.\n",
      "  complement[\"genres\"] = complement[\"genres\"].str.replace(\"'\",\"\").str.replace(\"[\",\"\").str.replace(\"]\",\"\")\n"
     ]
    }
   ],
   "source": [
    "#Supression des guillemets et crochet de la colonne genre\n",
    "complement[\"genres\"] = complement[\"genres\"].str.replace(\"'\",\"\").str.replace(\"[\",\"\").str.replace(\"]\",\"\")"
   ]
  },
  {
   "cell_type": "code",
   "execution_count": 104,
   "id": "7e3c3e4a",
   "metadata": {},
   "outputs": [],
   "source": [
    "#Division de le colonne 'genres' et création de 11 autres (un genre par colonne)\n",
    "complement[['genre0', 'genre1', 'genre2', 'genre3', 'genre4', 'genre5', 'genre6', 'genre7', 'genre8', 'genre9', 'genre10']] = complement['genres'].str.split(',', expand = True)"
   ]
  },
  {
   "cell_type": "code",
   "execution_count": 106,
   "id": "4742074e",
   "metadata": {},
   "outputs": [],
   "source": [
    "#Concaténation des colonnes genres pour créer une liste de genres et pour pouvoir itérer dessus\n",
    "complement['genre_concat'] = complement.apply(lambda row: [row['genre0'], row['genre1'], row['genre2'], row['genre3'], row['genre4'], row['genre5'], row['genre6'], row['genre7'], row['genre8'], row['genre9'], row['genre10']], axis=1)"
   ]
  },
  {
   "cell_type": "code",
   "execution_count": 108,
   "id": "0947e404",
   "metadata": {},
   "outputs": [],
   "source": [
    "#Remplacement des '\\N' par des NaN\n",
    "complement.replace('\\\\N', np.nan, inplace = True)"
   ]
  },
  {
   "cell_type": "code",
   "execution_count": 113,
   "id": "593ec519",
   "metadata": {},
   "outputs": [
    {
     "data": {
      "text/html": [
       "<div>\n",
       "<style scoped>\n",
       "    .dataframe tbody tr th:only-of-type {\n",
       "        vertical-align: middle;\n",
       "    }\n",
       "\n",
       "    .dataframe tbody tr th {\n",
       "        vertical-align: top;\n",
       "    }\n",
       "\n",
       "    .dataframe thead th {\n",
       "        text-align: right;\n",
       "    }\n",
       "</style>\n",
       "<table border=\"1\" class=\"dataframe\">\n",
       "  <thead>\n",
       "    <tr style=\"text-align: right;\">\n",
       "      <th></th>\n",
       "      <th>adult</th>\n",
       "      <th>backdrop_path</th>\n",
       "      <th>budget</th>\n",
       "      <th>genres</th>\n",
       "      <th>homepage</th>\n",
       "      <th>id</th>\n",
       "      <th>imdb_id</th>\n",
       "      <th>original_language</th>\n",
       "      <th>original_title</th>\n",
       "      <th>overview</th>\n",
       "      <th>...</th>\n",
       "      <th>genre2</th>\n",
       "      <th>genre3</th>\n",
       "      <th>genre4</th>\n",
       "      <th>genre5</th>\n",
       "      <th>genre6</th>\n",
       "      <th>genre7</th>\n",
       "      <th>genre8</th>\n",
       "      <th>genre9</th>\n",
       "      <th>genre10</th>\n",
       "      <th>genre_concat</th>\n",
       "    </tr>\n",
       "  </thead>\n",
       "  <tbody>\n",
       "    <tr>\n",
       "      <th>0</th>\n",
       "      <td>False</td>\n",
       "      <td>/dvQj1GBZAZirz1skEEZyWH2ZqQP.jpg</td>\n",
       "      <td>0</td>\n",
       "      <td>Comedy</td>\n",
       "      <td>NaN</td>\n",
       "      <td>3924</td>\n",
       "      <td>tt0029927</td>\n",
       "      <td>en</td>\n",
       "      <td>Blondie</td>\n",
       "      <td>Blondie and Dagwood are about to celebrate the...</td>\n",
       "      <td>...</td>\n",
       "      <td>None</td>\n",
       "      <td>None</td>\n",
       "      <td>None</td>\n",
       "      <td>None</td>\n",
       "      <td>None</td>\n",
       "      <td>None</td>\n",
       "      <td>None</td>\n",
       "      <td>None</td>\n",
       "      <td>None</td>\n",
       "      <td>[Comedy, None, None, None, None, None, None, N...</td>\n",
       "    </tr>\n",
       "    <tr>\n",
       "      <th>1</th>\n",
       "      <td>False</td>\n",
       "      <td>NaN</td>\n",
       "      <td>0</td>\n",
       "      <td>Adventure</td>\n",
       "      <td>NaN</td>\n",
       "      <td>6124</td>\n",
       "      <td>tt0011436</td>\n",
       "      <td>de</td>\n",
       "      <td>Der Mann ohne Namen</td>\n",
       "      <td>NaN</td>\n",
       "      <td>...</td>\n",
       "      <td>None</td>\n",
       "      <td>None</td>\n",
       "      <td>None</td>\n",
       "      <td>None</td>\n",
       "      <td>None</td>\n",
       "      <td>None</td>\n",
       "      <td>None</td>\n",
       "      <td>None</td>\n",
       "      <td>None</td>\n",
       "      <td>[Adventure, None, None, None, None, None, None...</td>\n",
       "    </tr>\n",
       "    <tr>\n",
       "      <th>2</th>\n",
       "      <td>False</td>\n",
       "      <td>/uJlc4aNPF3Y8yAqahJTKBwgwPVW.jpg</td>\n",
       "      <td>0</td>\n",
       "      <td>Drama, Romance</td>\n",
       "      <td>NaN</td>\n",
       "      <td>8773</td>\n",
       "      <td>tt0055747</td>\n",
       "      <td>fr</td>\n",
       "      <td>L'Amour à vingt ans</td>\n",
       "      <td>Love at Twenty unites five directors from five...</td>\n",
       "      <td>...</td>\n",
       "      <td>None</td>\n",
       "      <td>None</td>\n",
       "      <td>None</td>\n",
       "      <td>None</td>\n",
       "      <td>None</td>\n",
       "      <td>None</td>\n",
       "      <td>None</td>\n",
       "      <td>None</td>\n",
       "      <td>None</td>\n",
       "      <td>[Drama,  Romance, None, None, None, None, None...</td>\n",
       "    </tr>\n",
       "    <tr>\n",
       "      <th>3</th>\n",
       "      <td>False</td>\n",
       "      <td>/hQ4pYsIbP22TMXOUdSfC2mjWrO0.jpg</td>\n",
       "      <td>0</td>\n",
       "      <td>Drama, Comedy, Crime</td>\n",
       "      <td>NaN</td>\n",
       "      <td>2</td>\n",
       "      <td>tt0094675</td>\n",
       "      <td>fi</td>\n",
       "      <td>Ariel</td>\n",
       "      <td>Taisto Kasurinen is a Finnish coal miner whose...</td>\n",
       "      <td>...</td>\n",
       "      <td>Crime</td>\n",
       "      <td>None</td>\n",
       "      <td>None</td>\n",
       "      <td>None</td>\n",
       "      <td>None</td>\n",
       "      <td>None</td>\n",
       "      <td>None</td>\n",
       "      <td>None</td>\n",
       "      <td>None</td>\n",
       "      <td>[Drama,  Comedy,  Crime, None, None, None, Non...</td>\n",
       "    </tr>\n",
       "    <tr>\n",
       "      <th>4</th>\n",
       "      <td>False</td>\n",
       "      <td>/l94l89eMmFKh7na2a1u5q67VgNx.jpg</td>\n",
       "      <td>0</td>\n",
       "      <td>Drama, Comedy, Romance</td>\n",
       "      <td>NaN</td>\n",
       "      <td>3</td>\n",
       "      <td>tt0092149</td>\n",
       "      <td>fi</td>\n",
       "      <td>Varjoja paratiisissa</td>\n",
       "      <td>An episode in the life of Nikander, a garbage ...</td>\n",
       "      <td>...</td>\n",
       "      <td>Romance</td>\n",
       "      <td>None</td>\n",
       "      <td>None</td>\n",
       "      <td>None</td>\n",
       "      <td>None</td>\n",
       "      <td>None</td>\n",
       "      <td>None</td>\n",
       "      <td>None</td>\n",
       "      <td>None</td>\n",
       "      <td>[Drama,  Comedy,  Romance, None, None, None, N...</td>\n",
       "    </tr>\n",
       "    <tr>\n",
       "      <th>5</th>\n",
       "      <td>False</td>\n",
       "      <td>/c1BaOxC8bo5ACFYkYYxL0bBWRaq.jpg</td>\n",
       "      <td>4000000</td>\n",
       "      <td>Crime, Comedy</td>\n",
       "      <td>https://www.miramax.com/movie/four-rooms/</td>\n",
       "      <td>5</td>\n",
       "      <td>tt0113101</td>\n",
       "      <td>en</td>\n",
       "      <td>Four Rooms</td>\n",
       "      <td>It's Ted the Bellhop's first night on the job....</td>\n",
       "      <td>...</td>\n",
       "      <td>None</td>\n",
       "      <td>None</td>\n",
       "      <td>None</td>\n",
       "      <td>None</td>\n",
       "      <td>None</td>\n",
       "      <td>None</td>\n",
       "      <td>None</td>\n",
       "      <td>None</td>\n",
       "      <td>None</td>\n",
       "      <td>[Crime,  Comedy, None, None, None, None, None,...</td>\n",
       "    </tr>\n",
       "    <tr>\n",
       "      <th>6</th>\n",
       "      <td>False</td>\n",
       "      <td>/bGMqHn0H2UY6SPZ5Vch4YJM2jDO.jpg</td>\n",
       "      <td>21000000</td>\n",
       "      <td>Action, Crime, Thriller</td>\n",
       "      <td>NaN</td>\n",
       "      <td>6</td>\n",
       "      <td>tt0107286</td>\n",
       "      <td>en</td>\n",
       "      <td>Judgment Night</td>\n",
       "      <td>While racing to a boxing match, Frank, Mike, J...</td>\n",
       "      <td>...</td>\n",
       "      <td>Thriller</td>\n",
       "      <td>None</td>\n",
       "      <td>None</td>\n",
       "      <td>None</td>\n",
       "      <td>None</td>\n",
       "      <td>None</td>\n",
       "      <td>None</td>\n",
       "      <td>None</td>\n",
       "      <td>None</td>\n",
       "      <td>[Action,  Crime,  Thriller, None, None, None, ...</td>\n",
       "    </tr>\n",
       "    <tr>\n",
       "      <th>7</th>\n",
       "      <td>False</td>\n",
       "      <td>NaN</td>\n",
       "      <td>42000</td>\n",
       "      <td>Documentary</td>\n",
       "      <td>http://lifeinloops.com</td>\n",
       "      <td>8</td>\n",
       "      <td>tt0825671</td>\n",
       "      <td>en</td>\n",
       "      <td>Life in Loops (A Megacities RMX)</td>\n",
       "      <td>Timo Novotny labels his new project an experim...</td>\n",
       "      <td>...</td>\n",
       "      <td>None</td>\n",
       "      <td>None</td>\n",
       "      <td>None</td>\n",
       "      <td>None</td>\n",
       "      <td>None</td>\n",
       "      <td>None</td>\n",
       "      <td>None</td>\n",
       "      <td>None</td>\n",
       "      <td>None</td>\n",
       "      <td>[Documentary, None, None, None, None, None, No...</td>\n",
       "    </tr>\n",
       "    <tr>\n",
       "      <th>8</th>\n",
       "      <td>False</td>\n",
       "      <td>NaN</td>\n",
       "      <td>0</td>\n",
       "      <td>Drama</td>\n",
       "      <td>NaN</td>\n",
       "      <td>9</td>\n",
       "      <td>tt0425473</td>\n",
       "      <td>de</td>\n",
       "      <td>Sonntag im August</td>\n",
       "      <td>NaN</td>\n",
       "      <td>...</td>\n",
       "      <td>None</td>\n",
       "      <td>None</td>\n",
       "      <td>None</td>\n",
       "      <td>None</td>\n",
       "      <td>None</td>\n",
       "      <td>None</td>\n",
       "      <td>None</td>\n",
       "      <td>None</td>\n",
       "      <td>None</td>\n",
       "      <td>[Drama, None, None, None, None, None, None, No...</td>\n",
       "    </tr>\n",
       "    <tr>\n",
       "      <th>9</th>\n",
       "      <td>False</td>\n",
       "      <td>/2w4xG178RpB4MDAIfTkqAuSJzec.jpg</td>\n",
       "      <td>11000000</td>\n",
       "      <td>Adventure, Action, Science Fiction</td>\n",
       "      <td>http://www.starwars.com/films/star-wars-episod...</td>\n",
       "      <td>11</td>\n",
       "      <td>tt0076759</td>\n",
       "      <td>en</td>\n",
       "      <td>Star Wars</td>\n",
       "      <td>Princess Leia is captured and held hostage by ...</td>\n",
       "      <td>...</td>\n",
       "      <td>Science Fiction</td>\n",
       "      <td>None</td>\n",
       "      <td>None</td>\n",
       "      <td>None</td>\n",
       "      <td>None</td>\n",
       "      <td>None</td>\n",
       "      <td>None</td>\n",
       "      <td>None</td>\n",
       "      <td>None</td>\n",
       "      <td>[Adventure,  Action,  Science Fiction, None, N...</td>\n",
       "    </tr>\n",
       "    <tr>\n",
       "      <th>10</th>\n",
       "      <td>False</td>\n",
       "      <td>/yzqaKAhglTrkeOfuIXYYArf0WnA.jpg</td>\n",
       "      <td>94000000</td>\n",
       "      <td>Animation, Family</td>\n",
       "      <td>http://movies.disney.com/finding-nemo</td>\n",
       "      <td>12</td>\n",
       "      <td>tt0266543</td>\n",
       "      <td>en</td>\n",
       "      <td>Finding Nemo</td>\n",
       "      <td>Nemo, an adventurous young clownfish, is unexp...</td>\n",
       "      <td>...</td>\n",
       "      <td>None</td>\n",
       "      <td>None</td>\n",
       "      <td>None</td>\n",
       "      <td>None</td>\n",
       "      <td>None</td>\n",
       "      <td>None</td>\n",
       "      <td>None</td>\n",
       "      <td>None</td>\n",
       "      <td>None</td>\n",
       "      <td>[Animation,  Family, None, None, None, None, N...</td>\n",
       "    </tr>\n",
       "    <tr>\n",
       "      <th>11</th>\n",
       "      <td>False</td>\n",
       "      <td>/3h1JZGDhZ8nzxdgvkxha0qBqi05.jpg</td>\n",
       "      <td>55000000</td>\n",
       "      <td>Comedy, Drama, Romance</td>\n",
       "      <td>https://www.paramountmovies.com/movies/forrest...</td>\n",
       "      <td>13</td>\n",
       "      <td>tt0109830</td>\n",
       "      <td>en</td>\n",
       "      <td>Forrest Gump</td>\n",
       "      <td>A man with a low IQ has accomplished great thi...</td>\n",
       "      <td>...</td>\n",
       "      <td>Romance</td>\n",
       "      <td>None</td>\n",
       "      <td>None</td>\n",
       "      <td>None</td>\n",
       "      <td>None</td>\n",
       "      <td>None</td>\n",
       "      <td>None</td>\n",
       "      <td>None</td>\n",
       "      <td>None</td>\n",
       "      <td>[Comedy,  Drama,  Romance, None, None, None, N...</td>\n",
       "    </tr>\n",
       "    <tr>\n",
       "      <th>12</th>\n",
       "      <td>False</td>\n",
       "      <td>/DztBnZaqmla2sGUW9s8AyOmskT.jpg</td>\n",
       "      <td>15000000</td>\n",
       "      <td>Drama</td>\n",
       "      <td>NaN</td>\n",
       "      <td>14</td>\n",
       "      <td>tt0169547</td>\n",
       "      <td>en</td>\n",
       "      <td>American Beauty</td>\n",
       "      <td>Lester Burnham, a depressed suburban father in...</td>\n",
       "      <td>...</td>\n",
       "      <td>None</td>\n",
       "      <td>None</td>\n",
       "      <td>None</td>\n",
       "      <td>None</td>\n",
       "      <td>None</td>\n",
       "      <td>None</td>\n",
       "      <td>None</td>\n",
       "      <td>None</td>\n",
       "      <td>None</td>\n",
       "      <td>[Drama, None, None, None, None, None, None, No...</td>\n",
       "    </tr>\n",
       "    <tr>\n",
       "      <th>13</th>\n",
       "      <td>False</td>\n",
       "      <td>/ruF3Lmd4A8MHbnEBE6lxPMbsHGL.jpg</td>\n",
       "      <td>839727</td>\n",
       "      <td>Mystery, Drama</td>\n",
       "      <td>NaN</td>\n",
       "      <td>15</td>\n",
       "      <td>tt0033467</td>\n",
       "      <td>en</td>\n",
       "      <td>Citizen Kane</td>\n",
       "      <td>Newspaper magnate, Charles Foster Kane is take...</td>\n",
       "      <td>...</td>\n",
       "      <td>None</td>\n",
       "      <td>None</td>\n",
       "      <td>None</td>\n",
       "      <td>None</td>\n",
       "      <td>None</td>\n",
       "      <td>None</td>\n",
       "      <td>None</td>\n",
       "      <td>None</td>\n",
       "      <td>None</td>\n",
       "      <td>[Mystery,  Drama, None, None, None, None, None...</td>\n",
       "    </tr>\n",
       "    <tr>\n",
       "      <th>14</th>\n",
       "      <td>False</td>\n",
       "      <td>/ikR2qy9xJCHX7M8i5rcvuNfdYXs.jpg</td>\n",
       "      <td>12800000</td>\n",
       "      <td>Drama, Crime</td>\n",
       "      <td>NaN</td>\n",
       "      <td>16</td>\n",
       "      <td>tt0168629</td>\n",
       "      <td>en</td>\n",
       "      <td>Dancer in the Dark</td>\n",
       "      <td>Selma, a Czech immigrant on the verge of blind...</td>\n",
       "      <td>...</td>\n",
       "      <td>None</td>\n",
       "      <td>None</td>\n",
       "      <td>None</td>\n",
       "      <td>None</td>\n",
       "      <td>None</td>\n",
       "      <td>None</td>\n",
       "      <td>None</td>\n",
       "      <td>None</td>\n",
       "      <td>None</td>\n",
       "      <td>[Drama,  Crime, None, None, None, None, None, ...</td>\n",
       "    </tr>\n",
       "    <tr>\n",
       "      <th>15</th>\n",
       "      <td>False</td>\n",
       "      <td>/dhr0q4eiRr8ltqPig32TwhPRdaD.jpg</td>\n",
       "      <td>0</td>\n",
       "      <td>Horror, Thriller, Mystery</td>\n",
       "      <td>http://www.whatisannwyn.co.uk/</td>\n",
       "      <td>17</td>\n",
       "      <td>tt0411267</td>\n",
       "      <td>en</td>\n",
       "      <td>The Dark</td>\n",
       "      <td>In an attempt to pull her family together, Adè...</td>\n",
       "      <td>...</td>\n",
       "      <td>Mystery</td>\n",
       "      <td>None</td>\n",
       "      <td>None</td>\n",
       "      <td>None</td>\n",
       "      <td>None</td>\n",
       "      <td>None</td>\n",
       "      <td>None</td>\n",
       "      <td>None</td>\n",
       "      <td>None</td>\n",
       "      <td>[Horror,  Thriller,  Mystery, None, None, None...</td>\n",
       "    </tr>\n",
       "    <tr>\n",
       "      <th>16</th>\n",
       "      <td>False</td>\n",
       "      <td>/dwN0kPGrLbFRxyL3F3J3t4ShQx.jpg</td>\n",
       "      <td>90000000</td>\n",
       "      <td>Adventure, Fantasy, Action, Thriller, Science ...</td>\n",
       "      <td>NaN</td>\n",
       "      <td>18</td>\n",
       "      <td>tt0119116</td>\n",
       "      <td>en</td>\n",
       "      <td>The Fifth Element</td>\n",
       "      <td>In 2257, a taxi driver is unintentionally give...</td>\n",
       "      <td>...</td>\n",
       "      <td>Action</td>\n",
       "      <td>Thriller</td>\n",
       "      <td>Science Fiction</td>\n",
       "      <td>None</td>\n",
       "      <td>None</td>\n",
       "      <td>None</td>\n",
       "      <td>None</td>\n",
       "      <td>None</td>\n",
       "      <td>None</td>\n",
       "      <td>[Adventure,  Fantasy,  Action,  Thriller,  Sci...</td>\n",
       "    </tr>\n",
       "    <tr>\n",
       "      <th>17</th>\n",
       "      <td>False</td>\n",
       "      <td>/eeMoFKxjjiCi6iep2GEZtSAMYIr.jpg</td>\n",
       "      <td>1300000</td>\n",
       "      <td>Drama, Science Fiction</td>\n",
       "      <td>NaN</td>\n",
       "      <td>19</td>\n",
       "      <td>tt0017136</td>\n",
       "      <td>de</td>\n",
       "      <td>Metropolis</td>\n",
       "      <td>In a futuristic city sharply divided between t...</td>\n",
       "      <td>...</td>\n",
       "      <td>None</td>\n",
       "      <td>None</td>\n",
       "      <td>None</td>\n",
       "      <td>None</td>\n",
       "      <td>None</td>\n",
       "      <td>None</td>\n",
       "      <td>None</td>\n",
       "      <td>None</td>\n",
       "      <td>None</td>\n",
       "      <td>[Drama,  Science Fiction, None, None, None, No...</td>\n",
       "    </tr>\n",
       "    <tr>\n",
       "      <th>18</th>\n",
       "      <td>False</td>\n",
       "      <td>/kZyurQjTMLHalUxs7sHgH5XeiwO.jpg</td>\n",
       "      <td>2500000</td>\n",
       "      <td>Drama, Romance</td>\n",
       "      <td>http://www.clubcultura.com/clubcine/clubcineas...</td>\n",
       "      <td>20</td>\n",
       "      <td>tt0314412</td>\n",
       "      <td>en</td>\n",
       "      <td>My Life Without Me</td>\n",
       "      <td>A fatally ill mother with only two months to l...</td>\n",
       "      <td>...</td>\n",
       "      <td>None</td>\n",
       "      <td>None</td>\n",
       "      <td>None</td>\n",
       "      <td>None</td>\n",
       "      <td>None</td>\n",
       "      <td>None</td>\n",
       "      <td>None</td>\n",
       "      <td>None</td>\n",
       "      <td>None</td>\n",
       "      <td>[Drama,  Romance, None, None, None, None, None...</td>\n",
       "    </tr>\n",
       "    <tr>\n",
       "      <th>19</th>\n",
       "      <td>False</td>\n",
       "      <td>/uNRfK14Ga8Hwfqt07vo8nvWQN1i.jpg</td>\n",
       "      <td>0</td>\n",
       "      <td>Documentary</td>\n",
       "      <td>NaN</td>\n",
       "      <td>21</td>\n",
       "      <td>tt0060371</td>\n",
       "      <td>en</td>\n",
       "      <td>The Endless Summer</td>\n",
       "      <td>Bruce Brown's The Endless Summer is one of the...</td>\n",
       "      <td>...</td>\n",
       "      <td>None</td>\n",
       "      <td>None</td>\n",
       "      <td>None</td>\n",
       "      <td>None</td>\n",
       "      <td>None</td>\n",
       "      <td>None</td>\n",
       "      <td>None</td>\n",
       "      <td>None</td>\n",
       "      <td>None</td>\n",
       "      <td>[Documentary, None, None, None, None, None, No...</td>\n",
       "    </tr>\n",
       "  </tbody>\n",
       "</table>\n",
       "<p>20 rows × 37 columns</p>\n",
       "</div>"
      ],
      "text/plain": [
       "    adult                     backdrop_path    budget  \\\n",
       "0   False  /dvQj1GBZAZirz1skEEZyWH2ZqQP.jpg         0   \n",
       "1   False                               NaN         0   \n",
       "2   False  /uJlc4aNPF3Y8yAqahJTKBwgwPVW.jpg         0   \n",
       "3   False  /hQ4pYsIbP22TMXOUdSfC2mjWrO0.jpg         0   \n",
       "4   False  /l94l89eMmFKh7na2a1u5q67VgNx.jpg         0   \n",
       "5   False  /c1BaOxC8bo5ACFYkYYxL0bBWRaq.jpg   4000000   \n",
       "6   False  /bGMqHn0H2UY6SPZ5Vch4YJM2jDO.jpg  21000000   \n",
       "7   False                               NaN     42000   \n",
       "8   False                               NaN         0   \n",
       "9   False  /2w4xG178RpB4MDAIfTkqAuSJzec.jpg  11000000   \n",
       "10  False  /yzqaKAhglTrkeOfuIXYYArf0WnA.jpg  94000000   \n",
       "11  False  /3h1JZGDhZ8nzxdgvkxha0qBqi05.jpg  55000000   \n",
       "12  False   /DztBnZaqmla2sGUW9s8AyOmskT.jpg  15000000   \n",
       "13  False  /ruF3Lmd4A8MHbnEBE6lxPMbsHGL.jpg    839727   \n",
       "14  False  /ikR2qy9xJCHX7M8i5rcvuNfdYXs.jpg  12800000   \n",
       "15  False  /dhr0q4eiRr8ltqPig32TwhPRdaD.jpg         0   \n",
       "16  False   /dwN0kPGrLbFRxyL3F3J3t4ShQx.jpg  90000000   \n",
       "17  False  /eeMoFKxjjiCi6iep2GEZtSAMYIr.jpg   1300000   \n",
       "18  False  /kZyurQjTMLHalUxs7sHgH5XeiwO.jpg   2500000   \n",
       "19  False  /uNRfK14Ga8Hwfqt07vo8nvWQN1i.jpg         0   \n",
       "\n",
       "                                               genres  \\\n",
       "0                                              Comedy   \n",
       "1                                           Adventure   \n",
       "2                                      Drama, Romance   \n",
       "3                                Drama, Comedy, Crime   \n",
       "4                              Drama, Comedy, Romance   \n",
       "5                                       Crime, Comedy   \n",
       "6                             Action, Crime, Thriller   \n",
       "7                                         Documentary   \n",
       "8                                               Drama   \n",
       "9                  Adventure, Action, Science Fiction   \n",
       "10                                  Animation, Family   \n",
       "11                             Comedy, Drama, Romance   \n",
       "12                                              Drama   \n",
       "13                                     Mystery, Drama   \n",
       "14                                       Drama, Crime   \n",
       "15                          Horror, Thriller, Mystery   \n",
       "16  Adventure, Fantasy, Action, Thriller, Science ...   \n",
       "17                             Drama, Science Fiction   \n",
       "18                                     Drama, Romance   \n",
       "19                                        Documentary   \n",
       "\n",
       "                                             homepage    id    imdb_id  \\\n",
       "0                                                 NaN  3924  tt0029927   \n",
       "1                                                 NaN  6124  tt0011436   \n",
       "2                                                 NaN  8773  tt0055747   \n",
       "3                                                 NaN     2  tt0094675   \n",
       "4                                                 NaN     3  tt0092149   \n",
       "5           https://www.miramax.com/movie/four-rooms/     5  tt0113101   \n",
       "6                                                 NaN     6  tt0107286   \n",
       "7                              http://lifeinloops.com     8  tt0825671   \n",
       "8                                                 NaN     9  tt0425473   \n",
       "9   http://www.starwars.com/films/star-wars-episod...    11  tt0076759   \n",
       "10              http://movies.disney.com/finding-nemo    12  tt0266543   \n",
       "11  https://www.paramountmovies.com/movies/forrest...    13  tt0109830   \n",
       "12                                                NaN    14  tt0169547   \n",
       "13                                                NaN    15  tt0033467   \n",
       "14                                                NaN    16  tt0168629   \n",
       "15                     http://www.whatisannwyn.co.uk/    17  tt0411267   \n",
       "16                                                NaN    18  tt0119116   \n",
       "17                                                NaN    19  tt0017136   \n",
       "18  http://www.clubcultura.com/clubcine/clubcineas...    20  tt0314412   \n",
       "19                                                NaN    21  tt0060371   \n",
       "\n",
       "   original_language                    original_title  \\\n",
       "0                 en                           Blondie   \n",
       "1                 de               Der Mann ohne Namen   \n",
       "2                 fr               L'Amour à vingt ans   \n",
       "3                 fi                             Ariel   \n",
       "4                 fi              Varjoja paratiisissa   \n",
       "5                 en                        Four Rooms   \n",
       "6                 en                    Judgment Night   \n",
       "7                 en  Life in Loops (A Megacities RMX)   \n",
       "8                 de                 Sonntag im August   \n",
       "9                 en                         Star Wars   \n",
       "10                en                      Finding Nemo   \n",
       "11                en                      Forrest Gump   \n",
       "12                en                   American Beauty   \n",
       "13                en                      Citizen Kane   \n",
       "14                en                Dancer in the Dark   \n",
       "15                en                          The Dark   \n",
       "16                en                 The Fifth Element   \n",
       "17                de                        Metropolis   \n",
       "18                en                My Life Without Me   \n",
       "19                en                The Endless Summer   \n",
       "\n",
       "                                             overview  ...            genre2  \\\n",
       "0   Blondie and Dagwood are about to celebrate the...  ...              None   \n",
       "1                                                 NaN  ...              None   \n",
       "2   Love at Twenty unites five directors from five...  ...              None   \n",
       "3   Taisto Kasurinen is a Finnish coal miner whose...  ...             Crime   \n",
       "4   An episode in the life of Nikander, a garbage ...  ...           Romance   \n",
       "5   It's Ted the Bellhop's first night on the job....  ...              None   \n",
       "6   While racing to a boxing match, Frank, Mike, J...  ...          Thriller   \n",
       "7   Timo Novotny labels his new project an experim...  ...              None   \n",
       "8                                                 NaN  ...              None   \n",
       "9   Princess Leia is captured and held hostage by ...  ...   Science Fiction   \n",
       "10  Nemo, an adventurous young clownfish, is unexp...  ...              None   \n",
       "11  A man with a low IQ has accomplished great thi...  ...           Romance   \n",
       "12  Lester Burnham, a depressed suburban father in...  ...              None   \n",
       "13  Newspaper magnate, Charles Foster Kane is take...  ...              None   \n",
       "14  Selma, a Czech immigrant on the verge of blind...  ...              None   \n",
       "15  In an attempt to pull her family together, Adè...  ...           Mystery   \n",
       "16  In 2257, a taxi driver is unintentionally give...  ...            Action   \n",
       "17  In a futuristic city sharply divided between t...  ...              None   \n",
       "18  A fatally ill mother with only two months to l...  ...              None   \n",
       "19  Bruce Brown's The Endless Summer is one of the...  ...              None   \n",
       "\n",
       "       genre3            genre4 genre5  genre6  genre7 genre8 genre9 genre10  \\\n",
       "0        None              None   None    None    None   None   None    None   \n",
       "1        None              None   None    None    None   None   None    None   \n",
       "2        None              None   None    None    None   None   None    None   \n",
       "3        None              None   None    None    None   None   None    None   \n",
       "4        None              None   None    None    None   None   None    None   \n",
       "5        None              None   None    None    None   None   None    None   \n",
       "6        None              None   None    None    None   None   None    None   \n",
       "7        None              None   None    None    None   None   None    None   \n",
       "8        None              None   None    None    None   None   None    None   \n",
       "9        None              None   None    None    None   None   None    None   \n",
       "10       None              None   None    None    None   None   None    None   \n",
       "11       None              None   None    None    None   None   None    None   \n",
       "12       None              None   None    None    None   None   None    None   \n",
       "13       None              None   None    None    None   None   None    None   \n",
       "14       None              None   None    None    None   None   None    None   \n",
       "15       None              None   None    None    None   None   None    None   \n",
       "16   Thriller   Science Fiction   None    None    None   None   None    None   \n",
       "17       None              None   None    None    None   None   None    None   \n",
       "18       None              None   None    None    None   None   None    None   \n",
       "19       None              None   None    None    None   None   None    None   \n",
       "\n",
       "                                         genre_concat  \n",
       "0   [Comedy, None, None, None, None, None, None, N...  \n",
       "1   [Adventure, None, None, None, None, None, None...  \n",
       "2   [Drama,  Romance, None, None, None, None, None...  \n",
       "3   [Drama,  Comedy,  Crime, None, None, None, Non...  \n",
       "4   [Drama,  Comedy,  Romance, None, None, None, N...  \n",
       "5   [Crime,  Comedy, None, None, None, None, None,...  \n",
       "6   [Action,  Crime,  Thriller, None, None, None, ...  \n",
       "7   [Documentary, None, None, None, None, None, No...  \n",
       "8   [Drama, None, None, None, None, None, None, No...  \n",
       "9   [Adventure,  Action,  Science Fiction, None, N...  \n",
       "10  [Animation,  Family, None, None, None, None, N...  \n",
       "11  [Comedy,  Drama,  Romance, None, None, None, N...  \n",
       "12  [Drama, None, None, None, None, None, None, No...  \n",
       "13  [Mystery,  Drama, None, None, None, None, None...  \n",
       "14  [Drama,  Crime, None, None, None, None, None, ...  \n",
       "15  [Horror,  Thriller,  Mystery, None, None, None...  \n",
       "16  [Adventure,  Fantasy,  Action,  Thriller,  Sci...  \n",
       "17  [Drama,  Science Fiction, None, None, None, No...  \n",
       "18  [Drama,  Romance, None, None, None, None, None...  \n",
       "19  [Documentary, None, None, None, None, None, No...  \n",
       "\n",
       "[20 rows x 37 columns]"
      ]
     },
     "execution_count": 113,
     "metadata": {},
     "output_type": "execute_result"
    }
   ],
   "source": [
    "complement.head(20)"
   ]
  },
  {
   "cell_type": "code",
   "execution_count": null,
   "id": "2fff518d",
   "metadata": {},
   "outputs": [],
   "source": [
    "#Supressions des colonnes'adult','genres','id', 'original_title', 'runtime', 'spoken_languages', 'vote_average' et 'vote_count'\n",
    "complement.drop(labels=['adult','genres','id', 'original_title', 'runtime', 'spoken_languages', 'vote_average', 'vote_count'], axis=1,inplace=True)"
   ]
  },
  {
   "cell_type": "code",
   "execution_count": null,
   "id": "663653b8",
   "metadata": {},
   "outputs": [],
   "source": [
    "#Supression des colonnes 'title' et 'production_companies_country'\n",
    "complement.drop(labels=['title','production_companies_country'], axis=1,inplace=True)"
   ]
  },
  {
   "cell_type": "code",
   "execution_count": null,
   "id": "c228bd50",
   "metadata": {},
   "outputs": [],
   "source": [
    "#Import de la base complement sous format csv pour l'importer plus facilement ensuite\n",
    "complement.to_csv(\"complement.csv\", index = False)"
   ]
  },
  {
   "cell_type": "code",
   "execution_count": null,
   "id": "319848ca",
   "metadata": {},
   "outputs": [],
   "source": []
  },
  {
   "cell_type": "markdown",
   "id": "ed9a41fd",
   "metadata": {},
   "source": [
    "# Jointure"
   ]
  },
  {
   "cell_type": "markdown",
   "id": "141b3861",
   "metadata": {},
   "source": [
    "## Table : Title rating"
   ]
  },
  {
   "cell_type": "code",
   "execution_count": null,
   "id": "7b847e9e",
   "metadata": {},
   "outputs": [],
   "source": [
    "import pandas as pd\n",
    "import matplotlib.pyplot as plt\n",
    "import seaborn as sns\n",
    "import numpy as np\n",
    "import plotly.express as px"
   ]
  },
  {
   "cell_type": "code",
   "execution_count": null,
   "id": "2120b0a2",
   "metadata": {},
   "outputs": [],
   "source": [
    "#Appel de la table rating\n",
    "rating = pd.read_csv('data_title_rating.tsv', sep = '\\t')\n",
    "rating"
   ]
  },
  {
   "cell_type": "code",
   "execution_count": null,
   "id": "a0518434",
   "metadata": {},
   "outputs": [],
   "source": [
    "#Appel de la table Title_basics\n",
    "title_basics = pd.read_csv('title_basics.csv', sep = ',')\n",
    "title_basics"
   ]
  },
  {
   "cell_type": "markdown",
   "id": "896d0f7a",
   "metadata": {},
   "source": [
    "## Jointure de la table Title_basics avec la table title_rating"
   ]
  },
  {
   "cell_type": "code",
   "execution_count": null,
   "id": "aaa283a8",
   "metadata": {},
   "outputs": [],
   "source": [
    "#############################  Jointure de la base title_basics avec rating  ###################################################\n",
    "\n",
    "df_complet = pd.merge(title_basics, rating, how = 'left', left_on = 'tconst', right_on = 'tconst')\n",
    "df_complet"
   ]
  },
  {
   "cell_type": "markdown",
   "id": "0ab73372",
   "metadata": {},
   "source": [
    "## Jointure DF précédent avec la table akas"
   ]
  },
  {
   "cell_type": "code",
   "execution_count": null,
   "id": "98447192",
   "metadata": {},
   "outputs": [],
   "source": [
    "#Appel de la table akas nommée language_fr\n",
    "language_fr = pd.read_csv('language_fr.csv', sep = ',')\n",
    "language_fr"
   ]
  },
  {
   "cell_type": "code",
   "execution_count": null,
   "id": "1e4dace0",
   "metadata": {},
   "outputs": [],
   "source": [
    "##########################################  Jointure df_complet précédent avec language_fr  ####################################\n",
    "\n",
    "df_complet = pd.merge(df_complet, language_fr, how = 'inner', left_on = 'tconst', right_on = 'titleId')\n",
    "df_complet"
   ]
  },
  {
   "cell_type": "markdown",
   "id": "a8f28223",
   "metadata": {},
   "source": [
    "## Jointure du DF précédent avec la table princ_name_group (composée de title_principal et name_basics jointes et nettoyées)"
   ]
  },
  {
   "cell_type": "code",
   "execution_count": null,
   "id": "a573fca6",
   "metadata": {},
   "outputs": [],
   "source": [
    "#Apple de la base princ_name_group contenant Title_principal et name_basics nettoyées\n",
    "princ_name_group = pd.read_csv('name_group_tcont.csv', sep = ',')\n",
    "princ_name_group"
   ]
  },
  {
   "cell_type": "code",
   "execution_count": null,
   "id": "d6479bff",
   "metadata": {},
   "outputs": [],
   "source": [
    "################  Jointure du df_complet précédent avec title_principal et name_basics nettoyées  ##############################\n",
    "\n",
    "df_complet = pd.merge(df_complet, princ_name_group, how = 'left', left_on = 'tconst', right_on = 'tconst')\n",
    "df_complet"
   ]
  },
  {
   "cell_type": "code",
   "execution_count": null,
   "id": "676e2479",
   "metadata": {},
   "outputs": [],
   "source": [
    "#Supression de la colonne 'titleId'\n",
    "df_complet.drop(labels=['titleId'], axis=1,inplace=True)\n",
    "df_complet"
   ]
  },
  {
   "cell_type": "markdown",
   "id": "ce40dc8f",
   "metadata": {},
   "source": [
    "## Jointure du DF précédent avec la table complémentaire"
   ]
  },
  {
   "cell_type": "code",
   "execution_count": null,
   "id": "81b43e73",
   "metadata": {},
   "outputs": [],
   "source": [
    "#Appel de la base complémentaire\n",
    "complement = pd.read_csv('complement.csv', sep = ',')\n",
    "complement"
   ]
  },
  {
   "cell_type": "code",
   "execution_count": null,
   "id": "493aed27",
   "metadata": {},
   "outputs": [],
   "source": [
    "df_complet = pd.merge(df_complet, complement, how = 'left', left_on = 'tconst', right_on = 'imdb_id')\n",
    "df_complet"
   ]
  },
  {
   "cell_type": "markdown",
   "id": "6d204a41",
   "metadata": {},
   "source": [
    "# Nettoyage du df_complet avec toutes les tables"
   ]
  },
  {
   "cell_type": "code",
   "execution_count": null,
   "id": "43f0a5d1",
   "metadata": {},
   "outputs": [],
   "source": [
    "#Remplacement des '\\N' par des NaN\n",
    "df_complet.replace('\\\\N', np.nan, inplace = True)\n",
    "df_complet"
   ]
  },
  {
   "cell_type": "code",
   "execution_count": null,
   "id": "35a3d008",
   "metadata": {},
   "outputs": [],
   "source": [
    "#Supression de la colonne 'endYear'\n",
    "df_complet.drop(labels=['endYear'], axis=1,inplace=True)\n",
    "df_complet"
   ]
  },
  {
   "cell_type": "code",
   "execution_count": null,
   "id": "d86e6bc2",
   "metadata": {},
   "outputs": [],
   "source": [
    "#Supression de la colonne 'isAdult'\n",
    "df_complet.drop(labels=['isAdult'], axis=1,inplace=True)\n",
    "df_complet"
   ]
  },
  {
   "cell_type": "code",
   "execution_count": null,
   "id": "20ab250f",
   "metadata": {},
   "outputs": [],
   "source": [
    "#Supression des colonnes de split de la colonne genres\n",
    "df_complet.drop(['genre0', 'genre1', 'genre3'], axis = 1, inplace = True)"
   ]
  },
  {
   "cell_type": "code",
   "execution_count": null,
   "id": "899b7bad",
   "metadata": {},
   "outputs": [],
   "source": [
    "#Supression des lignes qui n'ont pas de imdb_id\n",
    "df_complet = df_complet[df_complet['imdb_id'].isna() == False]"
   ]
  },
  {
   "cell_type": "code",
   "execution_count": null,
   "id": "fef3a456",
   "metadata": {},
   "outputs": [],
   "source": [
    "#Remplacement des valeurs nulles\n",
    "df_complet['averageRating'].fillna(df_complet['averageRating'].median(), inplace = True)\n",
    "df_complet['numVotes'].fillna(0, inplace = True)\n",
    "df_complet['backdrop_path'].fillna('Unknown', inplace = True)\n",
    "df_complet['homepage'].fillna('Unknown', inplace = True)\n",
    "df_complet['overview'].fillna('Unknown', inplace = True)\n",
    "df_complet['tagline'].fillna('Unknown', inplace = True)\n",
    "df_complet['poster_path'].fillna('Unknown', inplace = True)"
   ]
  },
  {
   "cell_type": "code",
   "execution_count": null,
   "id": "15d569d6",
   "metadata": {},
   "outputs": [],
   "source": [
    "#Supression des ligne ayant une startYear nulle\n",
    "df_complet = df_complet[df_complet['startYear'].isna() == False]\n",
    "df_complet"
   ]
  },
  {
   "cell_type": "code",
   "execution_count": null,
   "id": "946bca15",
   "metadata": {},
   "outputs": [],
   "source": [
    "#Valeur manquantes dans releaseYear => comparaison avec l'année du startYear : "
   ]
  },
  {
   "cell_type": "code",
   "execution_count": null,
   "id": "48c534a9",
   "metadata": {},
   "outputs": [],
   "source": [
    "df_complet['release_date'] = pd.to_datetime(df_complet['release_date'])"
   ]
  },
  {
   "cell_type": "code",
   "execution_count": null,
   "id": "7292a59d",
   "metadata": {},
   "outputs": [],
   "source": [
    "df_complet['releaseYear'] = df_complet['release_date'].dt.year"
   ]
  },
  {
   "cell_type": "code",
   "execution_count": null,
   "id": "a8ec7744",
   "metadata": {},
   "outputs": [],
   "source": [
    "df_complet['ecart_date'] = df_complet['releaseYear'] - df_complet['startYear']"
   ]
  },
  {
   "cell_type": "code",
   "execution_count": null,
   "id": "7b26364a",
   "metadata": {},
   "outputs": [],
   "source": [
    "df_complet['ecart_date'].value_counts(normalize = True)*100"
   ]
  },
  {
   "cell_type": "code",
   "execution_count": null,
   "id": "c67462b7",
   "metadata": {},
   "outputs": [],
   "source": [
    "#Pas de grande différence entre releaseYear et startYear donc supression releaseYear"
   ]
  },
  {
   "cell_type": "code",
   "execution_count": null,
   "id": "e43c8709",
   "metadata": {},
   "outputs": [],
   "source": [
    "df_complet.drop(['releaseYear', 'release_date', 'ecart_date'], axis = 1, inplace = True)"
   ]
  },
  {
   "cell_type": "code",
   "execution_count": null,
   "id": "12372efc",
   "metadata": {},
   "outputs": [],
   "source": [
    "#Conversion des colonnes stratYear et numVotes en int\n",
    "df_complet['startYear'] = df_complet['startYear'].fillna(0).astype('int')\n",
    "df_complet['numVotes'] = df_complet['numVotes'].fillna(0).astype('int')"
   ]
  },
  {
   "cell_type": "code",
   "execution_count": null,
   "id": "6e3c9f8f",
   "metadata": {},
   "outputs": [],
   "source": [
    "#Colonne doublon avec le tconst et avec des valeurs manquantes\n",
    "df_complet.drop('imdb_id', axis=1, inplace=True)"
   ]
  },
  {
   "cell_type": "code",
   "execution_count": null,
   "id": "29712336",
   "metadata": {},
   "outputs": [],
   "source": [
    "#après avoir fait une autovis nous avons découvert que sur les colonnes suivantes le taux de missing values était >90% \n",
    "#nous avons donc décidé de les supprimer\n",
    "df_complet.drop(['archive_footage', 'archive_sound', 'production_designer', 'self'], axis=1, inplace=True)"
   ]
  },
  {
   "cell_type": "code",
   "execution_count": null,
   "id": "2ce13ade",
   "metadata": {},
   "outputs": [],
   "source": [
    "# supression de cette colonne car nous avons filtrer que sur les movies\n",
    "df_complet.drop('titleType', axis=1, inplace=True)"
   ]
  },
  {
   "cell_type": "code",
   "execution_count": null,
   "id": "74c266e6",
   "metadata": {},
   "outputs": [],
   "source": [
    "#supression de cette colonne car nous avons décidé de se baser sur l'average_rating\n",
    "df_complet.drop('popularity', axis=1, inplace=True)"
   ]
  },
  {
   "cell_type": "code",
   "execution_count": null,
   "id": "63f6739f",
   "metadata": {},
   "outputs": [],
   "source": [
    "#Histogramme : Répartition des films par notes\n",
    "import plotly.express as px\n",
    "fig2 = px.histogram(df_complet, x= 'averageRating', title='repartition des films par note')\n",
    "fig2.update_traces(marker_line_color='black', marker_line_width=1)\n",
    "\n",
    "fig2.show()"
   ]
  },
  {
   "cell_type": "code",
   "execution_count": null,
   "id": "54bea0ff",
   "metadata": {},
   "outputs": [],
   "source": [
    "#Supression des films ayant une note inférieure à 5\n",
    "df_complet = df_complet[df_complet['averageRating']>5]"
   ]
  },
  {
   "cell_type": "code",
   "execution_count": null,
   "id": "cfc3718f",
   "metadata": {},
   "outputs": [],
   "source": [
    "base_complete = df_complet"
   ]
  },
  {
   "cell_type": "code",
   "execution_count": null,
   "id": "590c6918",
   "metadata": {},
   "outputs": [],
   "source": [
    "#MitoSheet : supprimer les lignes pour lesquelles la colonne 'genre_concat' contient News ou Talk ou Reality\n",
    "base_complete = base_complete[~base_complete['genre_concat'].str.contains('News|Talk|Reality')]"
   ]
  },
  {
   "cell_type": "code",
   "execution_count": null,
   "id": "f0f9cdf7",
   "metadata": {},
   "outputs": [],
   "source": [
    "#MitoSheet : supprimer les lignes pour lesquelles la colonne 'genre_concat' contient Sport ou Music ou Musical\n",
    "base_complete = base_complete[~base_complete['genre_concat'].str.contains('Sport|Music|Musical')]"
   ]
  },
  {
   "cell_type": "code",
   "execution_count": null,
   "id": "993a7249",
   "metadata": {},
   "outputs": [],
   "source": [
    "#MitoSheet : supprimer les lignes pour lesquelles la colonne 'statut'  ne contient pas Released\n",
    "base_complete = base_complete[base_complete['status'] == 'Released']"
   ]
  },
  {
   "cell_type": "code",
   "execution_count": null,
   "id": "9854abd8",
   "metadata": {},
   "outputs": [],
   "source": [
    "#MitoSheet : supprimer les lignes pour lesquelles la colonne 'poster_path' contient unknown\n",
    "base_complete = base_complete[~base_complete['poster_path'].str.contains('Unknown')]"
   ]
  },
  {
   "cell_type": "code",
   "execution_count": null,
   "id": "88e641c7",
   "metadata": {},
   "outputs": [],
   "source": [
    "#MitoSheet : supprimer les lignes pour lesquelles la colonne 'genre_concat' contient Documentary ou Horror\n",
    "base_complete = base_complete[~base_complete['genre_concat'].str.contains('Documentary|Horror')]"
   ]
  },
  {
   "cell_type": "code",
   "execution_count": null,
   "id": "eaef6219",
   "metadata": {},
   "outputs": [],
   "source": [
    "#MitoSheet : supprimer les lignes pour lesquelles la colonne startYear est inferieur à 1945\n",
    "base_complete = base_complete[base_complete['startYear'] >= 1945]"
   ]
  },
  {
   "cell_type": "code",
   "execution_count": null,
   "id": "c012e6dc",
   "metadata": {},
   "outputs": [],
   "source": [
    "#MitoSheet : Pivoted base_complete into base_complete_pivot\n",
    "tmp_df = base_complete[base_complete['numVotes'] == 0]\n",
    "tmp_df = tmp_df[['primaryTitle', 'startYear']].copy()\n",
    "\n",
    "pivot_table = tmp_df.pivot_table(\n",
    "    index=['startYear'],\n",
    "    values=['primaryTitle'],\n",
    "    aggfunc={'primaryTitle': ['count']}\n",
    ")\n",
    "\n",
    "pivot_table = pivot_table.set_axis([flatten_column_header(col) for col in pivot_table.keys()], axis=1)\n",
    "base_complete_pivot = pivot_table.reset_index()\n",
    "\n",
    "\n",
    "#Pivoted base_complete into base_complete_pivot_1\n",
    "base_complete_pivot_1 = pd.DataFrame(data={})\n",
    "\n",
    "#Renamed base_complete_pivot to Pivot_films_0_votant\n",
    "Pivot_films_0_votant = base_complete_pivot"
   ]
  },
  {
   "cell_type": "code",
   "execution_count": null,
   "id": "1399e247",
   "metadata": {},
   "outputs": [],
   "source": [
    "#Histogramme nombre de films par année\n",
    "fig = px.histogram(base_complete_pivot, x='startYear', y='primaryTitle count', nbins=25, histfunc='sum')\n",
    "fig.update_layout(\n",
    "        title='Repartition des films sans votant par année', \n",
    "        xaxis={\n",
    "            \"showgrid\": True, \n",
    "            \"rangeslider\": {\n",
    "                \"visible\": True, \n",
    "                \"thickness\": 0.05\n",
    "            }\n",
    "        }, \n",
    "        yaxis={'title' : 'Nombre de films',\n",
    "            \"showgrid\": True\n",
    "        }, \n",
    "        legend={\n",
    "            \"orientation\": 'v'\n",
    "        }, \n",
    "        barmode='group', \n",
    "        paper_bgcolor='#FFFFFF'\n",
    "    )\n",
    "fig.show(renderer=\"iframe\")"
   ]
  },
  {
   "cell_type": "code",
   "execution_count": null,
   "id": "61ab29dd",
   "metadata": {},
   "outputs": [],
   "source": [
    "#Histogramme : Répartitions des films par années\n",
    "fig = px.histogram(base_complete, x= 'startYear', color = 'flag', barmode = 'group', title='repartition des films par année',nbins = 39)\n",
    "\n",
    "fig.show()"
   ]
  },
  {
   "cell_type": "code",
   "execution_count": null,
   "id": "43cda8db",
   "metadata": {},
   "outputs": [],
   "source": [
    "#Histogramme : Répartition des films par année\n",
    "#attention le graphique est par default regroupé tous les 2 ans\n",
    "sns.histplot(base_complete, x=\"startYear\", hue = 'flag', multiple=\"dodge\")\n",
    "plt.show()"
   ]
  },
  {
   "cell_type": "code",
   "execution_count": null,
   "id": "c84bf7d0",
   "metadata": {},
   "outputs": [],
   "source": [
    "#Boxplot sur la répartition de la longuers des films en minutes\n",
    "fig = px.box(base_complete, x='runtimeMinutes', points='outliers')\n",
    "fig.update_layout(\n",
    "        title='runtimeMinutes box plot', \n",
    "        xaxis={\n",
    "            \"showgrid\": True, \n",
    "            \"rangeslider\": {\n",
    "                \"visible\": True, \n",
    "                \"thickness\": 0.05\n",
    "            }\n",
    "        }, \n",
    "        yaxis={\n",
    "            \"showgrid\": True\n",
    "        }, \n",
    "        legend={\n",
    "            \"orientation\": 'v'\n",
    "        }, \n",
    "        paper_bgcolor='#FFFFFF'\n",
    "    )\n",
    "fig.show(renderer=\"iframe\")\n",
    "---------------\n",
    "base_complete[\"flag\"] = \"note<7\"\n",
    "base_complete.loc[base_complete['averageRating']>= 7, \"flag\"] = \"note>=7\"\n",
    "base_complete"
   ]
  },
  {
   "cell_type": "code",
   "execution_count": null,
   "id": "d7b1da29",
   "metadata": {},
   "outputs": [],
   "source": [
    "#Split de la colonne genre pour de la vis\n",
    "data = base_complete\n",
    "data['genres'] = data['genres'].str.split(',')\n",
    "data"
   ]
  },
  {
   "cell_type": "code",
   "execution_count": null,
   "id": "334b57bd",
   "metadata": {},
   "outputs": [],
   "source": [
    "data = data.explode('genres')"
   ]
  },
  {
   "cell_type": "code",
   "execution_count": null,
   "id": "2b1f11fd",
   "metadata": {},
   "outputs": [],
   "source": [
    "#Répartition des films par genres\n",
    "fig = px.histogram(data, x= 'genres', color = 'flag', barmode = 'group', title='repartition des films par genres',)\n",
    "\n",
    "fig.update_xaxes(categoryorder = 'total descending')\n",
    "\n",
    "fig.show()"
   ]
  },
  {
   "cell_type": "code",
   "execution_count": null,
   "id": "82995d96",
   "metadata": {},
   "outputs": [],
   "source": [
    "#Réparation des films par notes\n",
    "fig2 = px.histogram(base_complete, x= 'averageRating', title='repartition des films par note')\n",
    "fig2.update_traces(marker_line_color='black', marker_line_width=1)\n",
    "\n",
    "fig2.show()"
   ]
  },
  {
   "cell_type": "code",
   "execution_count": null,
   "id": "bd23883f",
   "metadata": {},
   "outputs": [],
   "source": [
    "#Répartition des notes\n",
    "fig = px.box(base_complete, x='averageRating', points='outliers')\n",
    "fig.show()"
   ]
  },
  {
   "cell_type": "code",
   "execution_count": null,
   "id": "b3d455e6",
   "metadata": {},
   "outputs": [],
   "source": [
    "#Répartition du nombre de votants\n",
    "fig = px.box(base_complete, x='numVotes', range_x = [0,20000], points = 'outliers', title = 'repartition du nombre de votants')\n",
    "fig.show()"
   ]
  },
  {
   "cell_type": "code",
   "execution_count": null,
   "id": "78fdf890",
   "metadata": {},
   "outputs": [],
   "source": [
    "#Répartition du nombre de votants\n",
    "fig2 = px.histogram(base_complete, x= 'numVotes', range_x = [0, 20000], nbins = 15000, title='repartition des films par nombre de votants')\n",
    "fig2.update_traces(marker_line_color='black', marker_line_width=1)\n",
    "\n",
    "fig2.show()"
   ]
  },
  {
   "cell_type": "code",
   "execution_count": null,
   "id": "b5222fee",
   "metadata": {},
   "outputs": [],
   "source": [
    "#Création d'une base test\n",
    "base_test = base_complete"
   ]
  },
  {
   "cell_type": "code",
   "execution_count": null,
   "id": "358faf19",
   "metadata": {},
   "outputs": [],
   "source": [
    "#supprimer les lignes uniquement si averageRating < 7 et si startYear < 2022\n",
    "base_test = base_test[(base_test['averageRating'] >= 7) | (base_test['startYear'] >= 2022)]"
   ]
  },
  {
   "cell_type": "code",
   "execution_count": null,
   "id": "d192c159",
   "metadata": {},
   "outputs": [],
   "source": [
    "base_test.drop(['genre_concat'], axis = 1, inplace = True)"
   ]
  },
  {
   "cell_type": "code",
   "execution_count": null,
   "id": "087f8038",
   "metadata": {},
   "outputs": [],
   "source": [
    "#Définition de notre base complète par notre base test\n",
    "base_complete = base_test"
   ]
  },
  {
   "cell_type": "code",
   "execution_count": null,
   "id": "f062a8af",
   "metadata": {},
   "outputs": [],
   "source": [
    "#Rest de l'index\n",
    "base_complete = base_complete.reset_index(drop = True)"
   ]
  },
  {
   "cell_type": "code",
   "execution_count": null,
   "id": "a8771300",
   "metadata": {},
   "outputs": [],
   "source": [
    "#Répartition des films par votants après le drop\n",
    "fig2 = px.histogram(base_complete, x= 'numVotes', range_x = [0, 20000], nbins = 15000, title='repartition des films par nombre de votants')\n",
    "fig2.update_traces(marker_line_color='black', marker_line_width=1)\n",
    "\n",
    "fig2.show()"
   ]
  },
  {
   "cell_type": "code",
   "execution_count": null,
   "id": "31a6f080",
   "metadata": {},
   "outputs": [],
   "source": [
    "#Répartition des films par année après le drop\n",
    "fig = px.histogram(base_complete, x= 'startYear', title='repartition des films par année',nbins = 39)\n",
    "fig.update_traces(marker_line_color='black', marker_line_width=1)\n",
    "fig.show()"
   ]
  },
  {
   "cell_type": "code",
   "execution_count": null,
   "id": "e320166d",
   "metadata": {},
   "outputs": [],
   "source": [
    "#Création d'une base de test pour vis\n",
    "data2 = base_complete\n",
    "data2 = data2.explode('genres')\n",
    "data2"
   ]
  },
  {
   "cell_type": "code",
   "execution_count": null,
   "id": "a14cb45f",
   "metadata": {},
   "outputs": [],
   "source": [
    "#Répartiotion des films par genres\n",
    "fig = px.histogram(data2, x= 'genres', title='repartition des films par genres')\n",
    "fig.update_traces(marker_line_color='black', marker_line_width=1)\n",
    "fig.update_xaxes(categoryorder = 'total descending')\n",
    "\n",
    "fig.show()"
   ]
  },
  {
   "cell_type": "code",
   "execution_count": null,
   "id": "13a6d447",
   "metadata": {},
   "outputs": [],
   "source": [
    "#Répatition des films par notes\n",
    "fig2 = px.histogram(base_complete, x= 'averageRating', title='repartition des films par note')\n",
    "fig2.update_traces(marker_line_color='black', marker_line_width=1)\n",
    "\n",
    "fig2.show()"
   ]
  },
  {
   "cell_type": "code",
   "execution_count": null,
   "id": "fe406e56",
   "metadata": {},
   "outputs": [],
   "source": [
    "#Suppression des lignes avec une stratYear inférieur à 1977\n",
    "base_complete = base_complete[base_complete['startYear'] > 1976]"
   ]
  },
  {
   "cell_type": "code",
   "execution_count": null,
   "id": "802daba2",
   "metadata": {},
   "outputs": [],
   "source": [
    "#Répartition des film par années\n",
    "fig = px.histogram(base_complete, x= 'startYear', title='repartition des films par année',nbins = 39)\n",
    "fig.update_traces(marker_line_color='black', marker_line_width=1)\n",
    "fig.show()"
   ]
  },
  {
   "cell_type": "code",
   "execution_count": null,
   "id": "9200756c",
   "metadata": {},
   "outputs": [],
   "source": [
    "#Supression des colonnes non utilisées\n",
    "base_complete.drop(['flag', 'production_companies_name', 'revenue', 'production_countries', 'budget', 'writer', 'producer', 'editor', 'composer', 'cinematographer', 'primaryTitle', 'language', 'original_language', 'status', 'tagline'], axis = 1, inplace = True)"
   ]
  },
  {
   "cell_type": "code",
   "execution_count": null,
   "id": "1d5210aa",
   "metadata": {},
   "outputs": [],
   "source": [
    "#Création de la colonne actors avec les colonnes actor et actress\n",
    "base_complete['actors'] = base_complete.apply(lambda row: [row['actor'], row['actress']], axis=1)"
   ]
  },
  {
   "cell_type": "code",
   "execution_count": null,
   "id": "abd31d52",
   "metadata": {},
   "outputs": [],
   "source": [
    "#Création d'une fonction pour supprimer les nan dans une colonne contenant une liste\n",
    "def remove_nan_from_list(lst):\n",
    "    return [x for x in lst if pd.notna(x)]"
   ]
  },
  {
   "cell_type": "code",
   "execution_count": null,
   "id": "93de15fb",
   "metadata": {},
   "outputs": [],
   "source": [
    "#Suppression des nan dans la colonne actors\n",
    "base_complete['actors'] = base_complete['actors'].apply(remove_nan_from_list)"
   ]
  },
  {
   "cell_type": "code",
   "execution_count": null,
   "id": "b265964a",
   "metadata": {},
   "outputs": [],
   "source": [
    "#Suppression des colonne actor et actress\n",
    "base_complete.drop(['actor', 'actress'], axis = 1, inplace = True)"
   ]
  },
  {
   "cell_type": "code",
   "execution_count": null,
   "id": "83b13275",
   "metadata": {},
   "outputs": [],
   "source": [
    "#Transformation des listes en string dans la colonne genres\n",
    "base_complete['genres'] = base_complete['genres'].apply(lambda x: ','.join(map(str, x)))"
   ]
  },
  {
   "cell_type": "code",
   "execution_count": null,
   "id": "a0ca7032",
   "metadata": {},
   "outputs": [],
   "source": [
    "#Transformation des listes en string dans la colonne actors\n",
    "base_complete['actors'] = base_complete['actors'].apply(lambda x: ','.join(map(str, x)))"
   ]
  },
  {
   "cell_type": "code",
   "execution_count": null,
   "id": "c7c77a55",
   "metadata": {},
   "outputs": [],
   "source": [
    "#Reset de l'index\n",
    "base_complete = base_complete.reset_index(drop=True)"
   ]
  },
  {
   "cell_type": "code",
   "execution_count": null,
   "id": "d2cb0795",
   "metadata": {},
   "outputs": [],
   "source": [
    "#Répartition des film par année ou les director sont des NaN\n",
    "fig = px.histogram(base_complete[base_complete['director'].isna()], x= 'startYear', title='repartition des films par année',nbins = 39)\n",
    "fig.update_traces(marker_line_color='black', marker_line_width=1)\n",
    "fig.show()"
   ]
  },
  {
   "cell_type": "code",
   "execution_count": null,
   "id": "9f8d377c",
   "metadata": {},
   "outputs": [],
   "source": [
    "#Répartition des film par note ou les director sont des NaN\n",
    "fig = px.histogram(base_complete[base_complete['director'].isna()], x= 'averageRating', title='repartition des films notes',nbins = 39)\n",
    "fig.update_traces(marker_line_color='black', marker_line_width=1)\n",
    "fig.show()"
   ]
  },
  {
   "cell_type": "code",
   "execution_count": null,
   "id": "c7ee8e4e",
   "metadata": {},
   "outputs": [],
   "source": [
    "#Répartition des film par nombre de votants ou les director sont des NaN\n",
    "fig = px.histogram(base_complete[base_complete['director'].isna()], x= 'numVotes', range_x = [0, 20000], title='repartition des films par votant',nbins = 15000)\n",
    "fig.update_traces(marker_line_color='black', marker_line_width=1)\n",
    "fig.show()"
   ]
  },
  {
   "cell_type": "code",
   "execution_count": null,
   "id": "fc0fa0d6",
   "metadata": {},
   "outputs": [],
   "source": [
    "#Suppression des lignes ou le director est NaN\n",
    "base_complete = base_complete[base_complete['director'].isna() == False]"
   ]
  },
  {
   "cell_type": "code",
   "execution_count": null,
   "id": "e4b29de6",
   "metadata": {},
   "outputs": [],
   "source": [
    "#Reset de l'index\n",
    "base_complete = base_complete.reset_index(drop=True)"
   ]
  },
  {
   "cell_type": "code",
   "execution_count": null,
   "id": "5bf6e524",
   "metadata": {},
   "outputs": [],
   "source": [
    "#Suppression de la colonne originalTitle\n",
    "base_complete.drop(['originalTitle'], axis = 1, inplace = True)"
   ]
  },
  {
   "cell_type": "code",
   "execution_count": null,
   "id": "80d910bb",
   "metadata": {},
   "outputs": [],
   "source": [
    "#Suppression des lignes ou les actors ne sont pas renseignés\n",
    "base_complete = base_complete[base_complete['actors'] != '']"
   ]
  },
  {
   "cell_type": "code",
   "execution_count": null,
   "id": "a0d82c41",
   "metadata": {},
   "outputs": [],
   "source": [
    "#Import de la base complète finale V1\n",
    "base_complete.to_csv(\"base_complete_final.csv\", index = False)"
   ]
  },
  {
   "cell_type": "code",
   "execution_count": null,
   "id": "ae2b3b86",
   "metadata": {},
   "outputs": [],
   "source": []
  },
  {
   "cell_type": "code",
   "execution_count": null,
   "id": "579f6995",
   "metadata": {},
   "outputs": [],
   "source": [
    "#Appel de la df_actor retravaillée (avec tous les acteurs et actrices)\n",
    "df_actor = pd.read_csv('table_actors.csv', sep = ',')"
   ]
  },
  {
   "cell_type": "code",
   "execution_count": null,
   "id": "a768e4d7",
   "metadata": {},
   "outputs": [],
   "source": [
    "#Appel de la base finale V1 créer précédemment\n",
    "df_final = pd.read_csv('base_complete_finale.csv', sep = ',')"
   ]
  },
  {
   "cell_type": "code",
   "execution_count": null,
   "id": "a9772460",
   "metadata": {},
   "outputs": [],
   "source": [
    "#Supression des colonnes director et actors\n",
    "df_final= df_final.drop(['director', 'actors'], axis = 1)"
   ]
  },
  {
   "cell_type": "code",
   "execution_count": null,
   "id": "f7d49c93",
   "metadata": {},
   "outputs": [],
   "source": [
    "#Jointure du df final et du df actor\n",
    "df_complet = pd.merge(df_final, df_actor, how = 'left', left_on = 'tconst', right_on = 'tconst')"
   ]
  },
  {
   "cell_type": "code",
   "execution_count": null,
   "id": "1518dd14",
   "metadata": {},
   "outputs": [],
   "source": [
    "#Tokenisation de l'overview (non utilisé par la suite)"
   ]
  },
  {
   "cell_type": "code",
   "execution_count": null,
   "id": "58768578",
   "metadata": {},
   "outputs": [],
   "source": [
    "pip install spacy\n",
    "import spacy\n",
    "import nltk\n",
    "import string"
   ]
  },
  {
   "cell_type": "code",
   "execution_count": null,
   "id": "8c4a0d2a",
   "metadata": {},
   "outputs": [],
   "source": [
    "nltk.download('popular')"
   ]
  },
  {
   "cell_type": "code",
   "execution_count": null,
   "id": "0a2556be",
   "metadata": {},
   "outputs": [],
   "source": [
    "nlp = spacy.load('en_core_web_sm')"
   ]
  },
  {
   "cell_type": "code",
   "execution_count": null,
   "id": "3c761f7c",
   "metadata": {},
   "outputs": [],
   "source": [
    "def clean(text):\n",
    "    textlemma = \" \".join([token.lemma for token in nlp(text)])\n",
    "    tokens = nltk.word_tokenize(text_lemma.lower())\n",
    "\n",
    "    tokens_clean = []\n",
    "    for words in tokens:\n",
    "        if words not in nltk.corpus.stopwords.words(\"english\"):\n",
    "            tokens_clean.append(words)\n",
    "    tokens_sans_ponctuation = [mot for mot in tokens_clean if mot not in string.punctuation + \"«»‘’“”\"]\n",
    "    lemma = ' '.join(tokens_sans_ponctuation)\n",
    "    return lemma"
   ]
  },
  {
   "cell_type": "code",
   "execution_count": null,
   "id": "5d33e3dc",
   "metadata": {},
   "outputs": [],
   "source": [
    "df_complet['overview_lemma'] = df_complet['overview'].apply(clean)"
   ]
  },
  {
   "cell_type": "code",
   "execution_count": null,
   "id": "13ef994f",
   "metadata": {},
   "outputs": [],
   "source": [
    "df_complet['genres'] = df_complet['genres'].str.split(',')"
   ]
  },
  {
   "cell_type": "code",
   "execution_count": null,
   "id": "dcf2e629",
   "metadata": {},
   "outputs": [],
   "source": [
    "df_complet['combined_features'] = (df_complet['genres'].apply(lambda x: ', '.join(map(str, x))) + ' ' + df_complet['title'] + ' ' + df_complet['director'] + ' ' + df_complet['actors'] + ' ' + df_complet['overview_lemma'])"
   ]
  },
  {
   "cell_type": "code",
   "execution_count": null,
   "id": "6c5a12ae",
   "metadata": {},
   "outputs": [],
   "source": [
    "df_complet.to_csv('base_complete_finale.csv', index = False)"
   ]
  },
  {
   "cell_type": "markdown",
   "id": "853b9236",
   "metadata": {},
   "source": [
    "# SYSTEME DE RECOMMANDATIONS"
   ]
  },
  {
   "cell_type": "markdown",
   "id": "6d62cd49",
   "metadata": {},
   "source": [
    "## Recommandation par titre"
   ]
  },
  {
   "cell_type": "code",
   "execution_count": null,
   "id": "933128d8",
   "metadata": {},
   "outputs": [],
   "source": [
    "df_final = pd.read_csv('base_complete_finale.csv', sep = ',', low_memory=False)"
   ]
  },
  {
   "cell_type": "code",
   "execution_count": null,
   "id": "c495c441",
   "metadata": {},
   "outputs": [],
   "source": [
    "from sklearn.feature_extraction.text import TfidfVectorizer\n",
    "from sklearn.metrics.pairwise import cosine_similarity\n",
    "from sklearn.neighbors import KNeighborsClassifier\n",
    "from sklearn.neighbors import NearestNeighbors\n",
    "from sklearn.metrics import confusion_matrix, ConfusionMatrixDisplay"
   ]
  },
  {
   "cell_type": "code",
   "execution_count": null,
   "id": "05a08497",
   "metadata": {},
   "outputs": [],
   "source": [
    "tfidf = TfidfVectorizer()"
   ]
  },
  {
   "cell_type": "code",
   "execution_count": null,
   "id": "2fe9c248",
   "metadata": {},
   "outputs": [],
   "source": [
    "count_matrix = tfidf.fit_transform(df_final['combined_features'])\n",
    "print(count_matrix)"
   ]
  },
  {
   "cell_type": "code",
   "execution_count": null,
   "id": "b94884bf",
   "metadata": {},
   "outputs": [],
   "source": [
    "X = count_matrix\n",
    "nb = 10"
   ]
  },
  {
   "cell_type": "code",
   "execution_count": null,
   "id": "77864ab6",
   "metadata": {},
   "outputs": [],
   "source": [
    "NN = NearestNeighbors(metric='cosine', n_neighbors = nb+1)"
   ]
  },
  {
   "cell_type": "code",
   "execution_count": null,
   "id": "12981117",
   "metadata": {},
   "outputs": [],
   "source": [
    "NN.fit(X)"
   ]
  },
  {
   "cell_type": "code",
   "execution_count": null,
   "id": "ece0af36",
   "metadata": {},
   "outputs": [],
   "source": [
    "movie_user = \"Titanic\""
   ]
  },
  {
   "cell_type": "code",
   "execution_count": null,
   "id": "434a83d2",
   "metadata": {},
   "outputs": [],
   "source": [
    "film_index = df_final[df_final['title'] == movie_user].index[0]"
   ]
  },
  {
   "cell_type": "code",
   "execution_count": null,
   "id": "f533354d",
   "metadata": {},
   "outputs": [],
   "source": [
    "dist, indices = NN.kneighbors(count_matrix[film_index:film_index+1])"
   ]
  },
  {
   "cell_type": "code",
   "execution_count": null,
   "id": "832f5325",
   "metadata": {},
   "outputs": [],
   "source": [
    "for index, distance in zip(indices[0][1:],dist[0][1:]): \n",
    "\n",
    "    print(df_final.iloc[index]['title'])\n",
    "    print('Distance : ', round(distance,4))\n",
    "    print('-----------------')"
   ]
  },
  {
   "cell_type": "code",
   "execution_count": null,
   "id": "b373820c",
   "metadata": {},
   "outputs": [],
   "source": [
    "indices = indices.flatten()"
   ]
  },
  {
   "cell_type": "code",
   "execution_count": null,
   "id": "a29914b6",
   "metadata": {},
   "outputs": [],
   "source": [
    "recommended_films = df_final.iloc[indices[1:]]"
   ]
  },
  {
   "cell_type": "code",
   "execution_count": null,
   "id": "39bfea34",
   "metadata": {},
   "outputs": [],
   "source": [
    "recommended_films['distance'] = dist.flatten()[1:]"
   ]
  },
  {
   "cell_type": "code",
   "execution_count": null,
   "id": "3d8e1c51",
   "metadata": {},
   "outputs": [],
   "source": [
    "#Après des test nous avons choisi de retirer le feature overwiew.lemma_ car les recommandations nous paraissaient moins coherentes avec."
   ]
  },
  {
   "cell_type": "markdown",
   "id": "31394787",
   "metadata": {},
   "source": [
    "## Recommandation par acteur"
   ]
  },
  {
   "cell_type": "code",
   "execution_count": null,
   "id": "07de4770",
   "metadata": {},
   "outputs": [],
   "source": [
    "count_matrix2 = tfidf.fit_transform(df_final['actors'])\n",
    "print(count_matrix)"
   ]
  },
  {
   "cell_type": "code",
   "execution_count": null,
   "id": "638cd7e4",
   "metadata": {},
   "outputs": [],
   "source": [
    "X2 = count_matrix2"
   ]
  },
  {
   "cell_type": "code",
   "execution_count": null,
   "id": "e9564bb7",
   "metadata": {},
   "outputs": [],
   "source": [
    "NN2 = NearestNeighbors(metric='cosine', n_neighbors = nb+1)"
   ]
  },
  {
   "cell_type": "code",
   "execution_count": null,
   "id": "9d356923",
   "metadata": {},
   "outputs": [],
   "source": [
    "NN2.fit(X2)"
   ]
  },
  {
   "cell_type": "code",
   "execution_count": null,
   "id": "5a922758",
   "metadata": {},
   "outputs": [],
   "source": [
    "actor_user = 'Tom Hanks'"
   ]
  },
  {
   "cell_type": "code",
   "execution_count": null,
   "id": "40339ec0",
   "metadata": {},
   "outputs": [],
   "source": [
    "film_index2 = df_final[df_final['actors'].str.contains(actor_user)].index[0]"
   ]
  },
  {
   "cell_type": "code",
   "execution_count": null,
   "id": "091a1636",
   "metadata": {},
   "outputs": [],
   "source": [
    "dist2, indices2 = NN2.kneighbors(count_matrix2[film_index2:film_index2+1])"
   ]
  },
  {
   "cell_type": "code",
   "execution_count": null,
   "id": "cac56e37",
   "metadata": {},
   "outputs": [],
   "source": [
    "for index, distance in zip(indices2[0][1:],dist2[0][1:]): \n",
    "\n",
    "    print(df_final.iloc[index]['title'])\n",
    "    print('Distance : ', round(distance,4))\n",
    "    print('-----------------')"
   ]
  },
  {
   "cell_type": "code",
   "execution_count": null,
   "id": "dc6a07dc",
   "metadata": {},
   "outputs": [],
   "source": [
    "indices2 = indices2.flatten()"
   ]
  },
  {
   "cell_type": "code",
   "execution_count": null,
   "id": "217890d7",
   "metadata": {},
   "outputs": [],
   "source": [
    "recommended_films2 = df_final.iloc[indices2[1:]]"
   ]
  },
  {
   "cell_type": "code",
   "execution_count": null,
   "id": "f004deaf",
   "metadata": {},
   "outputs": [],
   "source": [
    "recommended_films2['distance'] = dist2.flatten()[1:]"
   ]
  },
  {
   "cell_type": "markdown",
   "id": "2ec794a4",
   "metadata": {},
   "source": [
    "## Import des images"
   ]
  },
  {
   "cell_type": "code",
   "execution_count": null,
   "id": "8423117c",
   "metadata": {},
   "outputs": [],
   "source": [
    "import requests\n",
    "from io import BytesIO\n",
    "from IPython.display import Image"
   ]
  },
  {
   "cell_type": "code",
   "execution_count": null,
   "id": "088dc524",
   "metadata": {},
   "outputs": [],
   "source": [
    "def show_image_from_url(url):\n",
    "    try:\n",
    "        response = requests.get(url)\n",
    "        img = plt.imread(BytesIO(response.content), format='jpg')\n",
    "        plt.imshow(img)\n",
    "        plt.axis('off')\n",
    "        plt.show()\n",
    "    except Exception as e:\n",
    "        print(f\"Une erreur s'est produite lors du chargement de l'image : {e}\")"
   ]
  },
  {
   "cell_type": "code",
   "execution_count": null,
   "id": "65a372eb",
   "metadata": {},
   "outputs": [],
   "source": [
    "#Afficher les images pour les X premiers films\n",
    "for index, row in recommended_films.iterrows():\n",
    "    print(row['title'])  # Affiche le titre du film\n",
    "    url = f\"https://image.tmdb.org/t/p/w500%7Brow['poster_path']%7D\"  # Construit l'URL complet\n",
    "    show_image_from_url(url)"
   ]
  },
  {
   "cell_type": "markdown",
   "id": "b81fbccb",
   "metadata": {},
   "source": [
    "## Import Bandes Annonces"
   ]
  },
  {
   "cell_type": "code",
   "execution_count": null,
   "id": "89fa4185",
   "metadata": {},
   "outputs": [],
   "source": [
    "from IPython.display import HTML"
   ]
  },
  {
   "cell_type": "code",
   "execution_count": null,
   "id": "031a2d97",
   "metadata": {},
   "outputs": [],
   "source": [
    "#Votre clé API TMDb\n",
    "api_key = '2318d49dc7b23307a950da1ce4326e24'"
   ]
  },
  {
   "cell_type": "code",
   "execution_count": null,
   "id": "29b49f51",
   "metadata": {},
   "outputs": [],
   "source": [
    "for index, row in recommended_films.iterrows():\n",
    "    print(row['title'])  # Affiche le titre du film\n",
    "    \n",
    "    url_videos = f\"https://api.themoviedb.org/3/movie/%7Brow['tconst']%7D/videos?api_key={api_key}\"\n",
    "    response_videos = requests.get(url_videos)\n",
    "    \n",
    "    if response_videos.status_code == 200:\n",
    "        videos_data = response_videos.json()\n",
    "        for video in videos_data['results']:\n",
    "            # Vérifier si la vidéo est une bande-annonce sur YouTube\n",
    "            if video['site'] == \"YouTube\" and \"Trailer\" in video['type']:\n",
    "                youtube_id = video['key']\n",
    "                url = f\"https://www.youtube.com/watch?v={youtube_id}\"\n",
    "                print(f\"Bande-annonce YouTube : {url}\")\n",
    "                display(HTML(f'<iframe width=\"560\" height=\"315\" src=\"https://www.youtube.com/embed/%7Byoutube_id%7D\" frameborder=\"0\" allowfullscreen></iframe>'))\n",
    "                break  # Arrêter après avoir trouvé la première bande-annonce\n",
    "    else:\n",
    "        print(\"Erreur lors de la requête API pour les vidéos\")"
   ]
  },
  {
   "cell_type": "code",
   "execution_count": null,
   "id": "2f35da0b",
   "metadata": {},
   "outputs": [],
   "source": []
  }
 ],
 "metadata": {
  "kernelspec": {
   "display_name": "Python 3 (ipykernel)",
   "language": "python",
   "name": "python3"
  },
  "language_info": {
   "codemirror_mode": {
    "name": "ipython",
    "version": 3
   },
   "file_extension": ".py",
   "mimetype": "text/x-python",
   "name": "python",
   "nbconvert_exporter": "python",
   "pygments_lexer": "ipython3",
   "version": "3.11.5"
  },
  "toc": {
   "base_numbering": 1,
   "nav_menu": {},
   "number_sections": true,
   "sideBar": true,
   "skip_h1_title": false,
   "title_cell": "Table of Contents",
   "title_sidebar": "Contents",
   "toc_cell": false,
   "toc_position": {
    "height": "calc(100% - 180px)",
    "left": "10px",
    "top": "150px",
    "width": "384px"
   },
   "toc_section_display": true,
   "toc_window_display": false
  }
 },
 "nbformat": 4,
 "nbformat_minor": 5
}
